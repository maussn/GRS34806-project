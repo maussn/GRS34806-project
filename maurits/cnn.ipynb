{
  "nbformat": 4,
  "nbformat_minor": 0,
  "metadata": {
    "colab": {
      "provenance": [],
      "gpuType": "T4"
    },
    "kernelspec": {
      "name": "python3",
      "display_name": "Python 3"
    },
    "language_info": {
      "name": "python"
    },
    "accelerator": "GPU"
  },
  "cells": [
    {
      "cell_type": "code",
      "execution_count": 1,
      "metadata": {
        "id": "QrywNfRlazm-"
      },
      "outputs": [],
      "source": [
        "! git clone https://git.wur.nl/bioinformatics/grs34806-deep-learning-project-data.git -q\n",
        "! git clone https://github.com/maussn/GRS34806-project.git -q"
      ]
    },
    {
      "cell_type": "code",
      "source": [
        "import torch\n",
        "import torch.nn as nn\n",
        "import torch.nn.functional as F\n",
        "from torch.utils.tensorboard import SummaryWriter\n",
        "from datetime import datetime\n",
        "import sys\n",
        "import os\n",
        "from pathlib import Path\n",
        "import random\n",
        "import seaborn as sns\n",
        "\n",
        "device = torch.device('cuda' if torch.cuda.is_available() else 'cpu')\n",
        "\n",
        "from functools import total_ordering\n",
        "def init_weights(layer):\n",
        "    if type(layer) == nn.Linear or type(layer) == nn.Conv1d:\n",
        "        nn.init.xavier_uniform_(layer.weight)\n"
      ],
      "metadata": {
        "id": "3ctb6CE_bWXP"
      },
      "execution_count": 2,
      "outputs": []
    },
    {
      "cell_type": "code",
      "source": [
        "os.chdir(Path('grs34806-deep-learning-project-data'))"
      ],
      "metadata": {
        "id": "SEpH6j4dbJuO"
      },
      "execution_count": 3,
      "outputs": []
    },
    {
      "cell_type": "markdown",
      "source": [
        "# Data loading"
      ],
      "metadata": {
        "id": "DzPLAugMwzCz"
      }
    },
    {
      "cell_type": "code",
      "source": [
        "def read(seqfile: str, posfile: str) -> tuple[list, list]:\n",
        "    \"\"\"Read file with sequences and file with positive cases into lists.\n",
        "\n",
        "    :param seqfile: file with sequences\n",
        "    :type seqfile: str\n",
        "    :param posfile: file with positive cases (annotated with function)\n",
        "    :type posfile: str\n",
        "    :return: two lists, first with sequences and second with boolean labels\n",
        "    :rtype: tuple[list, list]\n",
        "    \"\"\"\n",
        "    idlist = []\n",
        "    datalist = []\n",
        "    labellist = []\n",
        "    with open(seqfile, 'r') as f:\n",
        "        for line in f.readlines():\n",
        "            line = line.rstrip().split('\\t')\n",
        "            idlist.append(line[0])\n",
        "            datalist.append(line[1])\n",
        "            labellist.append(False)\n",
        "    with open(posfile, 'r') as f:\n",
        "        for line in f.readlines():\n",
        "            id = line.rstrip()\n",
        "            try:\n",
        "                i = idlist.index(id)\n",
        "                labellist[i] = True\n",
        "            except ValueError:\n",
        "                continue\n",
        "    return datalist, labellist\n",
        "\n",
        "\n",
        "def split_labelled(datalist: list, labellist: list):\n",
        "    pos_datalist = []\n",
        "    neg_datalist = []\n",
        "    for i, label in enumerate(labellist):\n",
        "        if label:\n",
        "            pos_datalist.append(datalist[i])\n",
        "        else:\n",
        "            neg_datalist.append(datalist[i])\n",
        "    return pos_datalist, neg_datalist\n",
        "\n",
        "\n",
        "def remove_sequences(datalist: list, fraction=0.5):\n",
        "    random.shuffle(datalist)\n",
        "    i = round(len(datalist) * fraction)\n",
        "    return datalist[:i]\n",
        "\n",
        "\n",
        "def remove_sequences_equal(reduced_datalist: list, compared_datalist: list):\n",
        "    random.shuffle(reduced_datalist)\n",
        "    random.shuffle(compared_datalist)\n",
        "    reduced_datalist = reduced_datalist[:len(compared_datalist)]\n",
        "    if len(compared_datalist) != len(reduced_datalist):\n",
        "        raise ValueError\n",
        "    return reduced_datalist\n",
        "\n",
        "\n",
        "def fuse_sequence_lists(pos_datalist: list, neg_datalist: list):\n",
        "    pos_labels = [True for _ in pos_datalist]\n",
        "    neg_labels = [False for _ in neg_datalist]\n",
        "    datalist = pos_datalist + neg_datalist\n",
        "    labellist = pos_labels + neg_labels\n",
        "    return datalist, labellist\n",
        "\n",
        "\n",
        "def generate_train_test(datalist: list, labellist: list, fraction: float=0.8):\n",
        "    \"\"\"Split up dataset in training set and test set\n",
        "\n",
        "    :param datalist: list with sequences\n",
        "    :type datalist: list\n",
        "    :param labellist: list with labels\n",
        "    :type labellist: list\n",
        "    :param ratio: fraction to be added to the training set, remainder is added to the test set, defaults to 0.8\n",
        "    :type ratio: float, optional\n",
        "    :return: four lists, first two the training data and labels, second two the test data and labels\n",
        "    :rtype: tuple[list, list, list, list]\n",
        "    \"\"\"\n",
        "    c = list(zip(datalist, labellist))\n",
        "    random.shuffle(c)\n",
        "    datalist[:], labellist[:] = zip(*c)\n",
        "    i = round(len(datalist) * fraction)\n",
        "    traindatalist = datalist[:i]\n",
        "    trainlabellist = labellist[:i]\n",
        "    testdatalist = datalist[i:]\n",
        "    testlabellist = labellist[i:]\n",
        "    return traindatalist, trainlabellist,testdatalist,testlabellist\n",
        "\n",
        "\n",
        "def tokenize(data: list, map2num: dict, non_aa_num: int=20) -> list:\n",
        "    \"\"\"Tokenize all sequences in a list\n",
        "\n",
        "    :param data: list of sequences to tokenize\n",
        "    :type data: list\n",
        "    :param map2num: ammino acid -> integer token mapping\n",
        "    :type map2num: dict\n",
        "    :param non_aa_num: token for non amino acid characters, defaults to 20\n",
        "    :type non_aa_num: int, optional\n",
        "    :return: list of tokenized sequences\n",
        "    :rtype: list\n",
        "    \"\"\"\n",
        "    seq = []\n",
        "    for count, i in enumerate(data):\n",
        "        seq.append([map2num.get(j,non_aa_num) for j in list(i)])\n",
        "    return seq\n",
        "\n",
        "\n",
        "def truncate_pad(line: list, num_steps: int, padding_token: int) -> list:\n",
        "    \"\"\"Truncate or pad a tokenized sequence\n",
        "\n",
        "    :param line: tokenized sequence\n",
        "    :type line: list\n",
        "    :param num_steps: maximum sequence length\n",
        "    :type num_steps: int\n",
        "    :param padding_token: token to be used for padding\n",
        "    :type padding_token: int\n",
        "    :return: truncated/padded sequence\n",
        "    :rtype: list\n",
        "    \"\"\"\n",
        "    if len(line) > num_steps:\n",
        "        return line[:num_steps] # Truncate\n",
        "    return line + [padding_token] * (num_steps - len(line)) # Pad\n",
        "\n",
        "\n",
        "def build_seq_array(lines: list, num_steps: int, non_aa_num: int=20) -> torch.tensor:\n",
        "    \"\"\"Truncate or pad tokenized sequences and convert to tensor\n",
        "\n",
        "    :param lines: tokenized sequences\n",
        "    :type lines: list\n",
        "    :param num_steps: maximum sequence length\n",
        "    :type num_steps: int\n",
        "    :param non_aa_num: token for padding, defaults to 20\n",
        "    :type non_aa_num: int, optional\n",
        "    :return: tensor with truncated/padded tokenized sequences\n",
        "    :rtype: torch.tensor\n",
        "    \"\"\"\n",
        "    return torch.tensor([truncate_pad(l, num_steps, non_aa_num) for l in lines], dtype=torch.long)\n",
        "\n",
        "\n",
        "def load_array(data_arrays: tuple[torch.tensor, torch.tensor], batch_size: int, is_train: bool=True) -> torch.utils.data.DataLoader:\n",
        "    \"\"\"Construct a PyTorch data iterator.\n",
        "\n",
        "    Taken from d2l package\"\"\"\n",
        "    dataset = torch.utils.data.TensorDataset(*data_arrays)\n",
        "    return torch.utils.data.DataLoader(dataset, batch_size, shuffle=is_train)\n",
        "\n",
        "\n",
        "def load_data(batch_size: int, num_steps: int, dataset: tuple[list, list]) -> torch.utils.data.DataLoader:\n",
        "    \"\"\"Tokenize sequence/label dataset and load into dataloader.\n",
        "\n",
        "    :param batch_size: size of each batch\n",
        "    :type batch_size: int\n",
        "    :param num_steps: maximum sequence length\n",
        "    :type num_steps: int\n",
        "    :param dataset: first list contains sequences, second labels\n",
        "    :type dataset: tuple[list, list]\n",
        "    :return: torch dataloader which gives a tensor of sequences in a batch and a tensor with their labels\n",
        "    :rtype: torch.utils.data.DataLoader\n",
        "    \"\"\"\n",
        "    mapaa2num = {aa: i for (i, aa) in enumerate(list(\"ACDEFGHIKLMNPQRSTVWY\"))}\n",
        "    seq,lab = dataset\n",
        "    seq = tokenize(seq, mapaa2num)\n",
        "    seq_array = build_seq_array(seq, num_steps)\n",
        "    data_arrays = (seq_array, torch.tensor(lab, dtype=torch.long))\n",
        "    data_iter = load_array(data_arrays, batch_size)\n",
        "    return data_iter"
      ],
      "metadata": {
        "id": "eHpedW0hqx1V"
      },
      "execution_count": 4,
      "outputs": []
    },
    {
      "cell_type": "markdown",
      "source": [
        "# Load paired data"
      ],
      "metadata": {
        "id": "iFc0lo8vw291"
      }
    },
    {
      "cell_type": "code",
      "source": [
        "batch_size = 10\n",
        "num_steps = 1000\n",
        "\n",
        "# Example for one of the simulated datasets\n",
        "datalist, labellist = read(\"expr5Tseq_filtGO_100-1000.lis\", \"GO_3A0055085.annotprot\")\n",
        "# datalist, labellist = read(\"len200_500_n5000nr4.seq\", \"len200_500_n5000nr4.pos\")\n",
        "\n",
        "# Remove negatives\n",
        "pos_datalist, neg_datalist = split_labelled(datalist, labellist)\n",
        "neg_datalist = remove_sequences(neg_datalist, 0.1)\n",
        "# neg_datalist = remove_sequences_equal(neg_datalist, pos_datalist)\n",
        "datalist, labellist = fuse_sequence_lists(pos_datalist, neg_datalist)\n",
        "\n",
        "traindatalist, trainlabellist, testdatalist, testlabellist = generate_train_test(datalist, labellist, 0.6)\n",
        "traindataset = [traindatalist, trainlabellist]\n",
        "testdataset = [testdatalist, testlabellist]\n",
        "\n",
        "# Set batch_size and num_steps (maximum sequence length)\n",
        "train_iter = load_data(batch_size, num_steps, traindataset)\n",
        "test_iter = load_data(batch_size, num_steps, testdataset)\n",
        "\n",
        "print(next(iter(train_iter)))"
      ],
      "metadata": {
        "colab": {
          "base_uri": "https://localhost:8080/"
        },
        "id": "CyRvhoyiwv_g",
        "outputId": "08e74a12-8090-4e5f-ad9c-ee243796bb58"
      },
      "execution_count": 87,
      "outputs": [
        {
          "output_type": "stream",
          "name": "stdout",
          "text": [
            "[tensor([[10, 17,  9,  ..., 20, 20, 20],\n",
            "        [10,  0,  0,  ..., 20, 20, 20],\n",
            "        [10,  3,  7,  ..., 20, 20, 20],\n",
            "        ...,\n",
            "        [10,  9,  5,  ..., 20, 20, 20],\n",
            "        [10, 15, 17,  ..., 20, 20, 20],\n",
            "        [10, 15, 14,  ..., 20, 20, 20]]), tensor([0, 0, 0, 0, 0, 0, 1, 0, 0, 0])]\n"
          ]
        }
      ]
    },
    {
      "cell_type": "code",
      "source": [
        "len_list = []\n",
        "for s in datalist:\n",
        "    len_list.append(len(s))\n",
        "sns.histplot(len_list)\n",
        "\n",
        "p = 0\n",
        "n = 0\n",
        "for l in labellist:\n",
        "    if l:\n",
        "        p += 1\n",
        "    else:\n",
        "        n+=1\n",
        "print(f'{p = }\\n{n = }')"
      ],
      "metadata": {
        "colab": {
          "base_uri": "https://localhost:8080/",
          "height": 465
        },
        "id": "26FSv9_pGhWY",
        "outputId": "993e8055-f846-48b7-ecce-3e48d64cb365"
      },
      "execution_count": 88,
      "outputs": [
        {
          "output_type": "stream",
          "name": "stdout",
          "text": [
            "p = 226\n",
            "n = 656\n"
          ]
        },
        {
          "output_type": "display_data",
          "data": {
            "text/plain": [
              "<Figure size 640x480 with 1 Axes>"
            ],
            "image/png": "[encoded data removed]"
          },
          "metadata": {}
        }
      ]
    },
    {
      "cell_type": "markdown",
      "source": [
        "# Train functions binary classifier"
      ],
      "metadata": {
        "id": "reETSGvLw6-i"
      }
    },
    {
      "cell_type": "code",
      "source": [
        "\n",
        "\n",
        "class Trainer:\n",
        "    def __init__(self, model, loss_fn, optimizer, device):\n",
        "        self.model = model.to(device)\n",
        "        self.loss_fn = loss_fn\n",
        "        self.optimizer = optimizer\n",
        "        self.device = device\n",
        "\n",
        "\n",
        "    def _train_one_epoch(self, train_iter):\n",
        "        result_loss = 0\n",
        "        tpos = 0\n",
        "        fpos = 0\n",
        "        tneg = 0\n",
        "        fneg = 0\n",
        "        self.model.train(True)\n",
        "        for i, (inputs, labels) in enumerate(train_iter):\n",
        "\n",
        "            inputs = inputs.to(self.device)\n",
        "            self.optimizer.zero_grad()\n",
        "\n",
        "            outputs = self.model(inputs).to('cpu')\n",
        "\n",
        "            loss = self.loss_fn(outputs, labels)\n",
        "            result_loss += loss.item()\n",
        "            loss.backward()\n",
        "\n",
        "            self.optimizer.step()\n",
        "\n",
        "            for j, l in enumerate(labels):\n",
        "                o = outputs[j].tolist().index(max(outputs[j]))\n",
        "                l = l.item()\n",
        "                if o == 1 and l == 1:\n",
        "                    tpos += 1\n",
        "                elif o == 1 and l == 0:\n",
        "                    fpos += 1\n",
        "                elif o == 0 and l == 0:\n",
        "                    tneg += 1\n",
        "                elif o == 0 and l == 1:\n",
        "                    fneg += 1\n",
        "                else:\n",
        "                    raise ValueError(f'Output or label is not rounded to zero: {o = } {l = }')\n",
        "        accuracy = (tpos + tneg) / (tpos + fpos + tneg + fneg)\n",
        "        precision = tpos / (tpos + fpos) if (tpos + fpos) > 0 else 0\n",
        "        recall = tpos / (tpos + fneg) if (tpos + fneg) > 0 else 0\n",
        "        fscore = 2 * tpos / (2*tpos + fpos + fneg) if (2*tpos + fpos + fneg) > 0 else 0\n",
        "        return accuracy, precision, recall, fscore, result_loss / (i+1)\n",
        "\n",
        "\n",
        "    def _test_one_epoch(self, test_iter):\n",
        "        result_loss = 0\n",
        "        tpos = 0\n",
        "        fpos = 0\n",
        "        tneg = 0\n",
        "        fneg = 0\n",
        "        self.model.eval()\n",
        "        with torch.no_grad():\n",
        "            for i, (inputs, labels) in enumerate(test_iter):\n",
        "                inputs = inputs.to(device)\n",
        "\n",
        "                outputs = self.model(inputs).to('cpu')\n",
        "\n",
        "                loss = self.loss_fn(input=outputs, target=labels)\n",
        "                result_loss += loss.item()\n",
        "                for j, l in enumerate(labels):\n",
        "                    o = outputs[j].tolist().index(max(outputs[j]))\n",
        "                    l = l.item()\n",
        "                    if o == 1 and l == 1:\n",
        "                        tpos += 1\n",
        "                    elif o == 1 and l == 0:\n",
        "                        fpos += 1\n",
        "                    elif o == 0 and l == 0:\n",
        "                        tneg += 1\n",
        "                    elif o == 0 and l == 1:\n",
        "                        fneg += 1\n",
        "                    else:\n",
        "                        raise ValueError(f'Output or label is not rounded to zero: {o = } {l = }')\n",
        "        accuracy = (tpos + tneg) / (tpos + fpos + tneg + fneg)\n",
        "        precision = tpos / (tpos + fpos) if (tpos + fpos) > 0 else 0\n",
        "        recall = tpos / (tpos + fneg) if (tpos + fneg) > 0 else 0\n",
        "        fscore = 2 * tpos / (2*tpos + fpos + fneg) if (2*tpos + fpos + fneg) > 0 else 0\n",
        "        return accuracy, precision, recall, fscore, result_loss / (i+1)\n",
        "\n",
        "\n",
        "    def train(self, epochs, train_iter, test_iter):\n",
        "        for epoch in range(epochs):\n",
        "            train_acc, train_prec, train_rec, train_f, train_loss = self._train_one_epoch(train_iter)\n",
        "            test_acc, test_prec, test_rec, test_f, test_loss = self._test_one_epoch(test_iter)\n",
        "            print(f'{epoch = }\\t{train_loss=:.5f}\\t{test_loss=:.5f}\\t{train_acc=:.5f}\\t{test_acc=:.5f}\\t{test_prec=:.5f}\\t{test_rec=:.5f}\\t{test_f=:.5f}')\n",
        "\n"
      ],
      "metadata": {
        "id": "3Btdmdhj36zM"
      },
      "execution_count": 117,
      "outputs": []
    },
    {
      "cell_type": "markdown",
      "source": [
        "# Minimal model (does not work)"
      ],
      "metadata": {
        "id": "I2n78bgjw-uy"
      }
    },
    {
      "cell_type": "code",
      "source": [
        "class MinimalGOClassifierCNN(nn.Module):\n",
        "    def __init__(self, input_length: int, vocab_size : int=21,  num_filters: int=32, kernel_size: int=5):\n",
        "        super().__init__()\n",
        "        self.embedding = nn.Embedding(vocab_size, vocab_size)\n",
        "        self.conv_layer = nn.Sequential(\n",
        "            nn.Conv1d(in_channels=vocab_size, out_channels=num_filters, kernel_size=kernel_size),\n",
        "            nn.ReLU(),\n",
        "            nn.AdaptiveAvgPool1d(1)\n",
        "        )\n",
        "\n",
        "        self.classifier = nn.Sequential(\n",
        "            nn.LazyLinear(out_features=2)\n",
        "        )\n",
        "\n",
        "    def forward(self, x):\n",
        "        x = self.embedding(x)\n",
        "        x = self.conv_layer(x.transpose(1,2))\n",
        "        x = torch.flatten(x, 1)\n",
        "        x = self.classifier(x)\n",
        "        output = F.softmax(x, 1)\n",
        "        return output"
      ],
      "metadata": {
        "id": "6Agj87Dpbf-Y"
      },
      "execution_count": null,
      "outputs": []
    },
    {
      "cell_type": "markdown",
      "source": [
        "# Berry's model (works, go to for binary classification)"
      ],
      "metadata": {
        "id": "1wX4qCXZxCzS"
      }
    },
    {
      "cell_type": "code",
      "source": [
        "class BerryCNN1D(nn.Module):\n",
        "    \"\"\"1D Convolutional Neural Network for protein function classification\"\"\"\n",
        "    def __init__(self, context_size: int, vocab_size: int = 21,  conv_channels: int = 128, use_bias: bool = False):\n",
        "        super().__init__()\n",
        "        assert context_size % 2 == 0, f'Invalid context_size, {context_size} is not an even number'\n",
        "\n",
        "        self.embedding = nn.Embedding(vocab_size, vocab_size)\n",
        "\n",
        "        # CNN model for binary classification\n",
        "        self.conv1 = nn.Sequential(\n",
        "            # conv block 1\n",
        "            nn.Conv1d(in_channels=vocab_size, out_channels=conv_channels, kernel_size=3, padding='same', bias=use_bias),\n",
        "            nn.ReLU(),\n",
        "            nn.MaxPool1d(kernel_size=2, stride=2)\n",
        "        )\n",
        "        self.conv2 = nn.Sequential(\n",
        "            # conv block 2\n",
        "            nn.Conv1d(in_channels=conv_channels, out_channels=conv_channels, kernel_size=3, padding='same', bias=use_bias),\n",
        "            nn.ReLU(),\n",
        "            nn.AdaptiveMaxPool1d(1)\n",
        "        )\n",
        "        self.fc = nn.Sequential(\n",
        "            # flatten + classification head\n",
        "            nn.Flatten(1, -1),\n",
        "            nn.LazyLinear(out_features=2, bias=use_bias)  # binary classification\n",
        "        )\n",
        "\n",
        "\n",
        "    def forward(self, x: torch.tensor, targets: torch.tensor = None):\n",
        "        \"\"\"Predict protein function class (0 or 1)\"\"\"\n",
        "        x = self.embedding(x).permute(0,2,1)\n",
        "        x = self.conv1(x)\n",
        "        x = self.conv2(x)\n",
        "        x = self.fc(x)\n",
        "        return x\n"
      ],
      "metadata": {
        "id": "2V5v63DoLaLr"
      },
      "execution_count": 114,
      "outputs": []
    },
    {
      "cell_type": "code",
      "source": [
        "model = BerryCNN1D(context_size=num_steps, conv_channels=128)\n",
        "model.apply(init_weights)\n",
        "loss_fn = nn.CrossEntropyLoss()\n",
        "optimizer = torch.optim.SGD(model.parameters(), lr=0.001, momentum=0.9)\n",
        "model"
      ],
      "metadata": {
        "colab": {
          "base_uri": "https://localhost:8080/"
        },
        "outputId": "670133ec-aa1b-4eab-ff40-8371957ca58c",
        "id": "-kFRoPlYpeKe"
      },
      "execution_count": 118,
      "outputs": [
        {
          "output_type": "execute_result",
          "data": {
            "text/plain": [
              "BerryCNN1D(\n",
              "  (embedding): Embedding(21, 21)\n",
              "  (conv1): Sequential(\n",
              "    (0): Conv1d(21, 128, kernel_size=(3,), stride=(1,), padding=same, bias=False)\n",
              "    (1): ReLU()\n",
              "    (2): MaxPool1d(kernel_size=2, stride=2, padding=0, dilation=1, ceil_mode=False)\n",
              "  )\n",
              "  (conv2): Sequential(\n",
              "    (0): Conv1d(128, 128, kernel_size=(3,), stride=(1,), padding=same, bias=False)\n",
              "    (1): ReLU()\n",
              "    (2): AdaptiveMaxPool1d(output_size=1)\n",
              "  )\n",
              "  (fc): Sequential(\n",
              "    (0): Flatten(start_dim=1, end_dim=-1)\n",
              "    (1): LazyLinear(in_features=0, out_features=2, bias=False)\n",
              "  )\n",
              ")"
            ]
          },
          "metadata": {},
          "execution_count": 118
        }
      ]
    },
    {
      "cell_type": "code",
      "source": [
        "trainer = Trainer(model, loss_fn, optimizer, device)\n",
        "trainer.train(epochs=50, train_iter=train_iter, test_iter=test_iter)"
      ],
      "metadata": {
        "id": "AMz0guzKptRZ",
        "outputId": "9a828106-b06e-48dc-f64c-e2129f347340",
        "colab": {
          "base_uri": "https://localhost:8080/"
        }
      },
      "execution_count": 119,
      "outputs": [
        {
          "output_type": "stream",
          "name": "stdout",
          "text": [
            "epoch = 0\ttrain_loss=0.59139\ttest_loss=0.55797\ttrain_acc=0.73157\ttest_acc=0.75354\ttest_prec=0.00000\ttest_rec=0.00000\ttest_f=0.00000\n",
            "epoch = 1\ttrain_loss=0.56660\ttest_loss=0.56278\ttrain_acc=0.73724\ttest_acc=0.75354\ttest_prec=0.00000\ttest_rec=0.00000\ttest_f=0.00000\n",
            "epoch = 2\ttrain_loss=0.56258\ttest_loss=0.55463\ttrain_acc=0.73724\ttest_acc=0.75354\ttest_prec=0.00000\ttest_rec=0.00000\ttest_f=0.00000\n",
            "epoch = 3\ttrain_loss=0.54069\ttest_loss=0.54407\ttrain_acc=0.74669\ttest_acc=0.75354\ttest_prec=0.00000\ttest_rec=0.00000\ttest_f=0.00000\n",
            "epoch = 4\ttrain_loss=0.52345\ttest_loss=0.54486\ttrain_acc=0.73724\ttest_acc=0.75354\ttest_prec=0.00000\ttest_rec=0.00000\ttest_f=0.00000\n",
            "epoch = 5\ttrain_loss=0.51655\ttest_loss=0.57330\ttrain_acc=0.73913\ttest_acc=0.79037\ttest_prec=0.88235\ttest_rec=0.17241\ttest_f=0.28846\n",
            "epoch = 6\ttrain_loss=0.51245\ttest_loss=0.51653\ttrain_acc=0.78450\ttest_acc=0.75354\ttest_prec=0.00000\ttest_rec=0.00000\ttest_f=0.00000\n",
            "epoch = 7\ttrain_loss=0.47873\ttest_loss=0.53008\ttrain_acc=0.77883\ttest_acc=0.75354\ttest_prec=0.00000\ttest_rec=0.00000\ttest_f=0.00000\n",
            "epoch = 8\ttrain_loss=0.45053\ttest_loss=0.49675\ttrain_acc=0.77694\ttest_acc=0.75354\ttest_prec=0.00000\ttest_rec=0.00000\ttest_f=0.00000\n",
            "epoch = 9\ttrain_loss=0.41333\ttest_loss=0.49908\ttrain_acc=0.79395\ttest_acc=0.75354\ttest_prec=0.00000\ttest_rec=0.00000\ttest_f=0.00000\n",
            "epoch = 10\ttrain_loss=0.39641\ttest_loss=0.48046\ttrain_acc=0.82231\ttest_acc=0.76204\ttest_prec=1.00000\ttest_rec=0.03448\ttest_f=0.06667\n",
            "epoch = 11\ttrain_loss=0.36174\ttest_loss=0.48546\ttrain_acc=0.84688\ttest_acc=0.82720\ttest_prec=0.82500\ttest_rec=0.37931\ttest_f=0.51969\n",
            "epoch = 12\ttrain_loss=0.34788\ttest_loss=0.47390\ttrain_acc=0.86957\ttest_acc=0.76771\ttest_prec=0.85714\ttest_rec=0.06897\ttest_f=0.12766\n",
            "epoch = 13\ttrain_loss=0.31280\ttest_loss=0.46188\ttrain_acc=0.90170\ttest_acc=0.81020\ttest_prec=0.91667\ttest_rec=0.25287\ttest_f=0.39640\n",
            "epoch = 14\ttrain_loss=0.29650\ttest_loss=0.47666\ttrain_acc=0.90926\ttest_acc=0.76204\ttest_prec=1.00000\ttest_rec=0.03448\ttest_f=0.06667\n",
            "epoch = 15\ttrain_loss=0.26968\ttest_loss=0.45367\ttrain_acc=0.92628\ttest_acc=0.83286\ttest_prec=0.76923\ttest_rec=0.45977\ttest_f=0.57554\n",
            "epoch = 16\ttrain_loss=0.24919\ttest_loss=0.48458\ttrain_acc=0.94140\ttest_acc=0.76487\ttest_prec=1.00000\ttest_rec=0.04598\ttest_f=0.08791\n",
            "epoch = 17\ttrain_loss=0.24321\ttest_loss=0.44699\ttrain_acc=0.92628\ttest_acc=0.79603\ttest_prec=0.94118\ttest_rec=0.18391\ttest_f=0.30769\n",
            "epoch = 18\ttrain_loss=0.21201\ttest_loss=0.42957\ttrain_acc=0.95085\ttest_acc=0.83003\ttest_prec=0.75472\ttest_rec=0.45977\ttest_f=0.57143\n",
            "epoch = 19\ttrain_loss=0.18880\ttest_loss=0.43507\ttrain_acc=0.95841\ttest_acc=0.80453\ttest_prec=0.95000\ttest_rec=0.21839\ttest_f=0.35514\n",
            "epoch = 20\ttrain_loss=0.17758\ttest_loss=0.42143\ttrain_acc=0.96975\ttest_acc=0.82720\ttest_prec=0.74074\ttest_rec=0.45977\ttest_f=0.56738\n",
            "epoch = 21\ttrain_loss=0.16227\ttest_loss=0.42715\ttrain_acc=0.97732\ttest_acc=0.83569\ttest_prec=0.79592\ttest_rec=0.44828\ttest_f=0.57353\n",
            "epoch = 22\ttrain_loss=0.14817\ttest_loss=0.41158\ttrain_acc=0.98488\ttest_acc=0.83569\ttest_prec=0.79592\ttest_rec=0.44828\ttest_f=0.57353\n",
            "epoch = 23\ttrain_loss=0.14057\ttest_loss=0.40954\ttrain_acc=0.98110\ttest_acc=0.83569\ttest_prec=0.80851\ttest_rec=0.43678\ttest_f=0.56716\n",
            "epoch = 24\ttrain_loss=0.12259\ttest_loss=0.41269\ttrain_acc=0.98677\ttest_acc=0.82436\ttest_prec=0.72727\ttest_rec=0.45977\ttest_f=0.56338\n",
            "epoch = 25\ttrain_loss=0.11603\ttest_loss=0.41532\ttrain_acc=0.99622\ttest_acc=0.83003\ttest_prec=0.80000\ttest_rec=0.41379\ttest_f=0.54545\n",
            "epoch = 26\ttrain_loss=0.10453\ttest_loss=0.41346\ttrain_acc=0.99244\ttest_acc=0.83569\ttest_prec=0.80851\ttest_rec=0.43678\ttest_f=0.56716\n",
            "epoch = 27\ttrain_loss=0.09462\ttest_loss=0.42377\ttrain_acc=0.99811\ttest_acc=0.83003\ttest_prec=0.88571\ttest_rec=0.35632\ttest_f=0.50820\n",
            "epoch = 28\ttrain_loss=0.08658\ttest_loss=0.42765\ttrain_acc=0.99811\ttest_acc=0.84136\ttest_prec=0.86047\ttest_rec=0.42529\ttest_f=0.56923\n",
            "epoch = 29\ttrain_loss=0.08005\ttest_loss=0.41718\ttrain_acc=1.00000\ttest_acc=0.83003\ttest_prec=0.72881\ttest_rec=0.49425\ttest_f=0.58904\n",
            "epoch = 30\ttrain_loss=0.07473\ttest_loss=0.41656\ttrain_acc=1.00000\ttest_acc=0.83569\ttest_prec=0.85366\ttest_rec=0.40230\ttest_f=0.54688\n",
            "epoch = 31\ttrain_loss=0.06769\ttest_loss=0.40171\ttrain_acc=1.00000\ttest_acc=0.82720\ttest_prec=0.70968\ttest_rec=0.50575\ttest_f=0.59060\n",
            "epoch = 32\ttrain_loss=0.06448\ttest_loss=0.42349\ttrain_acc=1.00000\ttest_acc=0.83853\ttest_prec=0.78846\ttest_rec=0.47126\ttest_f=0.58993\n",
            "epoch = 33\ttrain_loss=0.05793\ttest_loss=0.41549\ttrain_acc=1.00000\ttest_acc=0.83853\ttest_prec=0.85714\ttest_rec=0.41379\ttest_f=0.55814\n",
            "epoch = 34\ttrain_loss=0.05436\ttest_loss=0.40301\ttrain_acc=1.00000\ttest_acc=0.83003\ttest_prec=0.72881\ttest_rec=0.49425\ttest_f=0.58904\n",
            "epoch = 35\ttrain_loss=0.05245\ttest_loss=0.41839\ttrain_acc=1.00000\ttest_acc=0.83853\ttest_prec=0.80000\ttest_rec=0.45977\ttest_f=0.58394\n",
            "epoch = 36\ttrain_loss=0.04913\ttest_loss=0.40499\ttrain_acc=1.00000\ttest_acc=0.83853\ttest_prec=0.78846\ttest_rec=0.47126\ttest_f=0.58993\n",
            "epoch = 37\ttrain_loss=0.04512\ttest_loss=0.39843\ttrain_acc=1.00000\ttest_acc=0.83003\ttest_prec=0.71429\ttest_rec=0.51724\ttest_f=0.60000\n",
            "epoch = 38\ttrain_loss=0.04252\ttest_loss=0.42084\ttrain_acc=1.00000\ttest_acc=0.84136\ttest_prec=0.86047\ttest_rec=0.42529\ttest_f=0.56923\n",
            "epoch = 39\ttrain_loss=0.03971\ttest_loss=0.40801\ttrain_acc=1.00000\ttest_acc=0.83853\ttest_prec=0.78846\ttest_rec=0.47126\ttest_f=0.58993\n",
            "epoch = 40\ttrain_loss=0.03775\ttest_loss=0.42309\ttrain_acc=1.00000\ttest_acc=0.84136\ttest_prec=0.79245\ttest_rec=0.48276\ttest_f=0.60000\n",
            "epoch = 41\ttrain_loss=0.03551\ttest_loss=0.45340\ttrain_acc=1.00000\ttest_acc=0.82720\ttest_prec=0.90625\ttest_rec=0.33333\ttest_f=0.48739\n",
            "epoch = 42\ttrain_loss=0.03501\ttest_loss=0.40439\ttrain_acc=1.00000\ttest_acc=0.83853\ttest_prec=0.78846\ttest_rec=0.47126\ttest_f=0.58993\n",
            "epoch = 43\ttrain_loss=0.03211\ttest_loss=0.44457\ttrain_acc=1.00000\ttest_acc=0.83853\ttest_prec=0.80000\ttest_rec=0.45977\ttest_f=0.58394\n",
            "epoch = 44\ttrain_loss=0.03017\ttest_loss=0.41275\ttrain_acc=1.00000\ttest_acc=0.84136\ttest_prec=0.79245\ttest_rec=0.48276\ttest_f=0.60000\n",
            "epoch = 45\ttrain_loss=0.02920\ttest_loss=0.41483\ttrain_acc=1.00000\ttest_acc=0.84136\ttest_prec=0.80392\ttest_rec=0.47126\ttest_f=0.59420\n",
            "epoch = 46\ttrain_loss=0.02739\ttest_loss=0.42618\ttrain_acc=1.00000\ttest_acc=0.84136\ttest_prec=0.84444\ttest_rec=0.43678\ttest_f=0.57576\n",
            "epoch = 47\ttrain_loss=0.02633\ttest_loss=0.40286\ttrain_acc=1.00000\ttest_acc=0.83003\ttest_prec=0.72881\ttest_rec=0.49425\ttest_f=0.58904\n",
            "epoch = 48\ttrain_loss=0.02520\ttest_loss=0.41104\ttrain_acc=1.00000\ttest_acc=0.83853\ttest_prec=0.78846\ttest_rec=0.47126\ttest_f=0.58993\n",
            "epoch = 49\ttrain_loss=0.02391\ttest_loss=0.41847\ttrain_acc=1.00000\ttest_acc=0.83853\ttest_prec=0.80000\ttest_rec=0.45977\ttest_f=0.58394\n"
          ]
        }
      ]
    },
    {
      "cell_type": "markdown",
      "source": [
        "# Extra convolutional layer (does not improve)"
      ],
      "metadata": {
        "id": "_dsG7ooLxI2K"
      }
    },
    {
      "cell_type": "code",
      "source": [
        "class MoreCNN1D(nn.Module):\n",
        "    \"\"\"1D Convolutional Neural Network for protein function classification\"\"\"\n",
        "    def __init__(self, context_size: int, vocab_size: int = 21,  conv_channels: int = 128, use_bias: bool = False):\n",
        "        super().__init__()\n",
        "        assert context_size % 2 == 0, f'Invalid context_size, {context_size} is not an even number'\n",
        "\n",
        "        self.embedding = nn.Embedding(vocab_size, vocab_size)\n",
        "\n",
        "        # CNN model for binary classification\n",
        "        self.conv1 = nn.Sequential(\n",
        "            # conv block 1\n",
        "            nn.Conv1d(in_channels=vocab_size, out_channels=conv_channels, kernel_size=3, padding='same', bias=use_bias),\n",
        "            nn.ReLU(),\n",
        "            nn.MaxPool1d(kernel_size=2, stride=2)\n",
        "        )\n",
        "        self.conv2 = nn.Sequential(\n",
        "            # conv block 2\n",
        "            nn.Conv1d(in_channels=conv_channels, out_channels=conv_channels, kernel_size=3, padding='same', bias=use_bias),\n",
        "            nn.ReLU(),\n",
        "            nn.MaxPool1d(kernel_size=2, stride=2)\n",
        "        )\n",
        "        self.conv3 = nn.Sequential(\n",
        "            # conv block 3\n",
        "            nn.Conv1d(in_channels=conv_channels, out_channels=conv_channels, kernel_size=3, padding='same', bias=use_bias),\n",
        "            nn.ReLU(),\n",
        "            nn.AdaptiveMaxPool1d(1)\n",
        "        )\n",
        "        self.fc = nn.Sequential(\n",
        "            # flatten + classification head\n",
        "            nn.Flatten(1, -1),\n",
        "            nn.LazyLinear(out_features=2, bias=use_bias)  # binary classification\n",
        "        )\n",
        "\n",
        "\n",
        "    def forward(self, x: torch.tensor, targets: torch.tensor = None):\n",
        "        \"\"\"Predict protein function class (0 or 1)\"\"\"\n",
        "        x = self.embedding(x).permute(0,2,1)\n",
        "        x = self.conv1(x)\n",
        "        x = self.conv2(x)\n",
        "        x = self.conv3(x)\n",
        "        return self.fc(x)"
      ],
      "metadata": {
        "id": "M6H_ib65yCPk"
      },
      "execution_count": null,
      "outputs": []
    },
    {
      "cell_type": "code",
      "source": [
        "model = MoreCNN1D(context_size=num_steps, conv_channels=128)\n",
        "model.apply(init_weights)\n",
        "loss_fn = nn.CrossEntropyLoss()\n",
        "optimizer = torch.optim.SGD(model.parameters(), lr=0.001, momentum=0.9)\n",
        "model"
      ],
      "metadata": {
        "colab": {
          "base_uri": "https://localhost:8080/"
        },
        "id": "mBZC4GHeLUHz",
        "outputId": "4cb3b9e9-935f-47da-e0d0-d87df22ab1e8"
      },
      "execution_count": null,
      "outputs": [
        {
          "output_type": "execute_result",
          "data": {
            "text/plain": [
              "MoreCNN1D(\n",
              "  (embedding): Embedding(21, 21)\n",
              "  (conv1): Sequential(\n",
              "    (0): Conv1d(21, 128, kernel_size=(3,), stride=(1,), padding=same, bias=False)\n",
              "    (1): ReLU()\n",
              "    (2): MaxPool1d(kernel_size=2, stride=2, padding=0, dilation=1, ceil_mode=False)\n",
              "  )\n",
              "  (conv2): Sequential(\n",
              "    (0): Conv1d(128, 128, kernel_size=(3,), stride=(1,), padding=same, bias=False)\n",
              "    (1): ReLU()\n",
              "    (2): MaxPool1d(kernel_size=2, stride=2, padding=0, dilation=1, ceil_mode=False)\n",
              "  )\n",
              "  (conv3): Sequential(\n",
              "    (0): Conv1d(128, 128, kernel_size=(3,), stride=(1,), padding=same, bias=False)\n",
              "    (1): ReLU()\n",
              "    (2): AdaptiveMaxPool1d(output_size=1)\n",
              "  )\n",
              "  (fc): Sequential(\n",
              "    (0): Flatten(start_dim=1, end_dim=-1)\n",
              "    (1): LazyLinear(in_features=0, out_features=2, bias=False)\n",
              "  )\n",
              ")"
            ]
          },
          "metadata": {},
          "execution_count": 20
        }
      ]
    },
    {
      "cell_type": "code",
      "source": [
        "trainer = Trainer(model, loss_fn, optimizer)\n",
        "trainer.train(epochs=10, train_iter=train_iter, test_iter=test_iter)"
      ],
      "metadata": {
        "colab": {
          "base_uri": "https://localhost:8080/"
        },
        "id": "0fh2DuxL8e7n",
        "outputId": "3f6296b1-1e39-4491-b330-d21c3136e2ac"
      },
      "execution_count": null,
      "outputs": [
        {
          "output_type": "stream",
          "name": "stdout",
          "text": [
            "epoch = 0\ttrain_loss=0.35404\ttest_loss=0.33095\n",
            "epoch = 1\ttrain_loss=0.33558\ttest_loss=0.32332\n",
            "epoch = 2\ttrain_loss=0.32925\ttest_loss=0.32346\n",
            "epoch = 3\ttrain_loss=0.31973\ttest_loss=0.31417\n",
            "epoch = 4\ttrain_loss=0.30916\ttest_loss=0.32241\n",
            "epoch = 5\ttrain_loss=0.30079\ttest_loss=0.30237\n",
            "epoch = 6\ttrain_loss=0.28817\ttest_loss=0.29379\n",
            "epoch = 7\ttrain_loss=0.27623\ttest_loss=0.28432\n",
            "epoch = 8\ttrain_loss=0.25552\ttest_loss=0.27249\n",
            "epoch = 9\ttrain_loss=0.23447\ttest_loss=0.29422\n"
          ]
        }
      ]
    },
    {
      "cell_type": "markdown",
      "source": [
        "# Load data multiple labels"
      ],
      "metadata": {
        "id": "i1r1FMrdxNj0"
      }
    },
    {
      "cell_type": "code",
      "source": [
        "def read_multiple_pos(seqfile: str, posfiles: list[str]) -> tuple[list, list]:\n",
        "    \"\"\"Read file with sequences and file with positive cases into lists.\n",
        "\n",
        "    :param seqfile: file with sequences\n",
        "    :type seqfile: str\n",
        "    :param posfiles: files with positive cases (annotated with function)\n",
        "    :type posfile: str\n",
        "    :return: two lists, first with sequences and second with integer labels\n",
        "    :rtype: tuple[list, list]\n",
        "    \"\"\"\n",
        "    idlist = []\n",
        "    datalist = []\n",
        "    labellist = []\n",
        "    with open(seqfile, 'r') as f:\n",
        "        for line in f.readlines():\n",
        "            line = line.rstrip().split('\\t')\n",
        "            idlist.append(line[0])\n",
        "            datalist.append(line[1])\n",
        "            labellist.append([0 for _ in posfiles])\n",
        "    for l, posfile in enumerate(posfiles):\n",
        "        with open(posfile, 'r') as f:\n",
        "            for line in f.readlines():\n",
        "                id = line.rstrip()\n",
        "                try:\n",
        "                    i = idlist.index(id)\n",
        "                    # if labellist[i] != 0:\n",
        "                    #     raise Exception(f'Sequence with multiple labels. {id = }, {labellist[i] = }, {l = }')\n",
        "                    labellist[i][l] = 1\n",
        "                except ValueError:\n",
        "                    continue\n",
        "    return datalist, labellist\n",
        "\n",
        "\n",
        "def split_labelled_multiple_pos(datalist: list, labellist: list):\n",
        "    pos_datalist = []\n",
        "    pos_labellist = []\n",
        "    neg_datalist = []\n",
        "    neg_labellist = []\n",
        "    for i, labels in enumerate(labellist):\n",
        "        is_pos = False\n",
        "        for label in labels:\n",
        "            if label:\n",
        "                is_pos = True\n",
        "        if is_pos:\n",
        "            pos_datalist.append(datalist[i])\n",
        "            pos_labellist.append(labels)\n",
        "        else:\n",
        "            neg_datalist.append(datalist[i])\n",
        "            neg_labellist.append(labels)\n",
        "    return pos_datalist, pos_labellist, neg_datalist, neg_labellist\n",
        "\n",
        "\n",
        "def zip_n_shuffle(list1: list, list2: list) -> tuple[list, list]:\n",
        "    assert len(list1) == len(list2)\n",
        "    combined = list(zip(list1, list2))\n",
        "    random.shuffle(combined)\n",
        "    list1, list2 = zip(*combined)\n",
        "    return list(list1), list(list2)\n",
        "\n",
        "\n",
        "def remove_sequences_multiple_pos(datalist: list, labellist, fraction=0.5):\n",
        "    datalist, labellist = zip_n_shuffle(datalist, labellist)\n",
        "    i = round(len(datalist) * fraction)\n",
        "    return datalist[:i], labellist[:i]\n",
        "\n",
        "\n",
        "def remove_sequences_equal_multiple_pos(reduced_datalist: list, reduced_labellist: list, compared_datalist: list):\n",
        "    reduced_datalist, reduced_labellist = zip_n_shuffle(reduced_datalist, reduced_labellist)\n",
        "    reduced_datalist = reduced_datalist[:len(compared_datalist)]\n",
        "    reduced_labellist = reduced_labellist[:len(compared_datalist)]\n",
        "    if len(compared_datalist) != len(reduced_datalist) or len(compared_datalist) != len(reduced_labellist):\n",
        "        raise ValueError\n",
        "    return reduced_datalist, reduced_labellist\n",
        "\n",
        "\n",
        "def fuse_sequence_lists_multiple_pos(pos_datalist: list, pos_labellist:list, neg_datalist: list, neg_labellist):\n",
        "    datalist = pos_datalist + neg_datalist\n",
        "    labellist = pos_labellist + neg_labellist\n",
        "    return datalist, labellist\n",
        "\n",
        "\n",
        "def calculate_pos_weights(labellist: list):\n",
        "    total_samples = len(labellist)\n",
        "    label_counts = torch.Tensor(labellist).sum(0)\n",
        "    pos_weights = (total_samples - label_counts) / (label_counts + 1e-5)\n",
        "    return pos_weights"
      ],
      "metadata": {
        "id": "g9TF3MfTr1o6"
      },
      "execution_count": 27,
      "outputs": []
    },
    {
      "cell_type": "markdown",
      "source": [
        "# Trainer multiple labels"
      ],
      "metadata": {
        "id": "o0TJEbhQxRLg"
      }
    },
    {
      "cell_type": "code",
      "source": [
        "device = torch.device('cuda' if torch.cuda.is_available() else 'cpu')\n",
        "\n",
        "\n",
        "class TrainerMultipleClasses:\n",
        "    def __init__(self, model, loss_fn, optimizer, device):\n",
        "        self.model = model.to(device)\n",
        "        self.loss_fn = loss_fn\n",
        "        self.optimizer = optimizer\n",
        "        self.device = device\n",
        "\n",
        "\n",
        "    def _train_one_epoch(self, train_iter):\n",
        "        result_loss = 0\n",
        "        tpos = 0\n",
        "        fpos = 0\n",
        "        tneg = 0\n",
        "        fneg = 0\n",
        "        self.model.train(True)\n",
        "        for i, (inputs, labels) in enumerate(train_iter):\n",
        "            inputs = inputs.to(device)\n",
        "            labels = labels\n",
        "\n",
        "            self.optimizer.zero_grad()\n",
        "\n",
        "            outputs = self.model(inputs).to('cpu')\n",
        "            labels = labels.type(torch.float32)\n",
        "\n",
        "            loss = loss_fn(input=outputs, target=labels)\n",
        "            result_loss += loss.item()\n",
        "\n",
        "            loss.backward()\n",
        "\n",
        "            self.optimizer.step()\n",
        "            for b, lab in enumerate(labels):\n",
        "                out = torch.round(torch.sigmoid(outputs[b]))\n",
        "\n",
        "                for j, o in enumerate(out):\n",
        "                    # print(f'{o=}\\t{l=}')\n",
        "                    l = lab[j]\n",
        "                    if o == 1 and l == 1:\n",
        "                        tpos += 1\n",
        "                    elif o == 1 and l == 0:\n",
        "                        fpos += 1\n",
        "                    elif o == 0 and l == 0:\n",
        "                        tneg += 1\n",
        "                    elif o == 0 and l == 1:\n",
        "                        fneg += 1\n",
        "                    else:\n",
        "                        raise ValueError(f'Output or label is not rounded to zero: {o = } {l = }')\n",
        "                    # print(f'{tpos=}\\t{fpos=}\\t{tneg=}\\t{fneg=}')\n",
        "        accuracy = (tpos + tneg) / (tpos + fpos + tneg + fneg)\n",
        "        precision = tpos / (tpos + fpos) if (tpos + fpos) > 0 else 0\n",
        "        recall = tpos / (tpos + fneg) if (tpos + fneg) > 0 else 0\n",
        "        fscore = 2 * tpos / (2*tpos + fpos + fneg) if (2*tpos + fpos + fneg) > 0 else 0\n",
        "        return accuracy, precision, recall, fscore, result_loss / (i+1)\n",
        "\n",
        "\n",
        "    def _test_one_epoch(self, test_iter):\n",
        "        result_loss = 0\n",
        "        tpos = 0\n",
        "        fpos = 0\n",
        "        tneg = 0\n",
        "        fneg = 0\n",
        "        self.model.eval()\n",
        "        with torch.no_grad():\n",
        "            for i, (inputs, labels) in enumerate(test_iter):\n",
        "                inputs = inputs.to(device)\n",
        "                labels = labels\n",
        "                outputs = self.model(inputs).to('cpu')\n",
        "                labels = labels.type(torch.float32)\n",
        "                loss = loss_fn(input=outputs, target=labels)\n",
        "                result_loss += loss.item()\n",
        "                for b, lab in enumerate(labels):\n",
        "                    out = torch.round(torch.sigmoid(outputs[b]))\n",
        "                    for j, o in enumerate(out):\n",
        "                        l = lab[j]\n",
        "                        if o == 1 and l == 1:\n",
        "                            tpos += 1\n",
        "                        elif o == 1 and l == 0:\n",
        "                            fpos += 1\n",
        "                        elif o == 0 and l == 0:\n",
        "                            tneg += 1\n",
        "                        elif o == 0 and l == 1:\n",
        "                            fneg += 1\n",
        "                        else:\n",
        "                            raise ValueError(f'Output or label is not rounded to zero: {o = } {l = }')\n",
        "        # print(f'{tpos=}\\t{fpos=}\\t{tneg=}\\t{fneg=}')\n",
        "        accuracy = (tpos + tneg) / (tpos + fpos + tneg + fneg)\n",
        "        precision = tpos / (tpos + fpos) if (tpos + fpos) > 0 else 0\n",
        "        recall = tpos / (tpos + fneg) if (tpos + fneg) > 0 else 0\n",
        "        fscore = 2 * tpos / (2*tpos + fpos + fneg) if (2*tpos + fpos + fneg) > 0 else 0\n",
        "        return accuracy, precision, recall, fscore, result_loss / (i+1)\n",
        "\n",
        "\n",
        "    def train(self, epochs, train_iter, test_iter):\n",
        "        for epoch in range(epochs):\n",
        "            train_acc, train_prec, train_rec, train_f, train_loss = self._train_one_epoch(train_iter)\n",
        "            test_acc, test_prec, test_rec, test_f, test_loss = self._test_one_epoch(test_iter)\n",
        "            print(f'{epoch = }\\t{train_loss=:.5f}\\t{test_loss=:.5f}\\t{train_acc=:.5f}\\t{test_acc=:.5f}\\t{test_prec=:.5f}\\t{test_rec=:.5f}\\t{test_f=:.5f}')"
      ],
      "metadata": {
        "id": "7xssSozK0uO3"
      },
      "execution_count": 6,
      "outputs": []
    },
    {
      "cell_type": "markdown",
      "source": [
        "# Model multiple labels"
      ],
      "metadata": {
        "id": "xsJ8Xb1zxVYr"
      }
    },
    {
      "cell_type": "code",
      "source": [
        "class MultiClassifierCNN1D(nn.Module):\n",
        "    \"\"\"1D Convolutional Neural Network for protein function classification\"\"\"\n",
        "    def __init__(self, num_classes: int, context_size: int, vocab_size: int = 21,  conv_channels: int = 128, use_bias: bool = False):\n",
        "        super().__init__()\n",
        "        assert context_size % 2 == 0, f'Invalid context_size, {context_size} is not an even number'\n",
        "\n",
        "        self.embedding = nn.Embedding(vocab_size, vocab_size)\n",
        "\n",
        "        # CNN model for binary classification\n",
        "        self.conv1 = nn.Sequential(\n",
        "            # conv block 1\n",
        "            nn.Conv1d(in_channels=vocab_size, out_channels=conv_channels, kernel_size=3, padding='same', bias=use_bias),\n",
        "            nn.BatchNorm1d(conv_channels),\n",
        "            nn.ReLU(),\n",
        "            nn.MaxPool1d(kernel_size=2, stride=2),\n",
        "            nn.Dropout(0)\n",
        "        )\n",
        "        self.conv2 = nn.Sequential(\n",
        "            # conv block 2\n",
        "            nn.Conv1d(in_channels=conv_channels, out_channels=conv_channels, kernel_size=3, padding='same', bias=use_bias),\n",
        "            nn.BatchNorm1d(conv_channels),\n",
        "            nn.ReLU(),\n",
        "            nn.MaxPool1d(1),\n",
        "            nn.Dropout(0)\n",
        "        )\n",
        "        self.conv3 = nn.Sequential(\n",
        "            # conv block 3\n",
        "            nn.Conv1d(in_channels=conv_channels, out_channels=conv_channels, kernel_size=3, padding='same', bias=use_bias),\n",
        "            nn.BatchNorm1d(conv_channels),\n",
        "            nn.ReLU(),\n",
        "            nn.AdaptiveMaxPool1d(1)\n",
        "        )\n",
        "        self.fc1 = nn.Sequential(\n",
        "            # flatten + classification head\n",
        "            nn.Flatten(1, -1),\n",
        "            nn.LazyLinear(out_features=64, bias=use_bias),\n",
        "            nn.ReLU(),\n",
        "            nn.Dropout(0)\n",
        "        )\n",
        "        self.fc2 = nn.Sequential(\n",
        "            # flatten + classification head\n",
        "            nn.LazyLinear(out_features=num_classes, bias=use_bias)\n",
        "        )\n",
        "\n",
        "\n",
        "    def forward(self, x: torch.tensor, targets: torch.tensor = None):\n",
        "        \"\"\"Predict protein function class (0 or 1)\"\"\"\n",
        "        x = self.embedding(x).permute(0,2,1)\n",
        "        x = self.conv1(x)\n",
        "        x = self.conv2(x)\n",
        "        x = self.conv3(x)\n",
        "        x = self.fc1(x)\n",
        "        return self.fc2(x)\n"
      ],
      "metadata": {
        "id": "DvXk1P5yzsRZ"
      },
      "execution_count": 21,
      "outputs": []
    },
    {
      "cell_type": "markdown",
      "source": [
        "# Load GO data multiple labels"
      ],
      "metadata": {
        "id": "5H-PP8bUxpCV"
      }
    },
    {
      "cell_type": "code",
      "source": [
        "annot_files = [\n",
        "    \"GO_3A0005576.annotprot\",\n",
        "    \"GO_3A0005739.annotprot\",\n",
        "    \"GO_3A0007165.annotprot\",\n",
        "    \"GO_3A0043066.annotprot\",\n",
        "    \"GO_3A0055085.annotprot\"\n",
        "]\n",
        "\n",
        "batch_size = 10\n",
        "num_steps = 1000\n",
        "\n",
        "dl, ll = read_multiple_pos(\"expr5Tseq_filtGO_100-1000.lis\", annot_files)\n",
        "\n",
        "p_dl, p_ll, n_dl, n_ll = split_labelled_multiple_pos(dl, ll)\n",
        "n_dl, n_ll = remove_sequences_multiple_pos(n_dl, n_ll, 0.1)\n",
        "dl, ll = fuse_sequence_lists_multiple_pos(p_dl, p_ll, n_dl, n_ll)\n",
        "\n",
        "train_dl, train_ll, test_dl, test_ll = generate_train_test(dl, ll, 0.6)\n",
        "train_ds = [train_dl, train_ll]\n",
        "test_ds = [test_dl, test_ll]\n",
        "\n",
        "traindataloader = load_data(batch_size, num_steps, train_ds)\n",
        "testdataloader = load_data(batch_size, num_steps, test_ds)\n",
        "\n",
        "pos_weights = calculate_pos_weights(train_ll)\n",
        "\n",
        "print(next(iter(traindataloader)))"
      ],
      "metadata": {
        "id": "CId5XjpFtW82",
        "outputId": "b35be285-9888-4abf-98b2-5246733d05d3",
        "colab": {
          "base_uri": "https://localhost:8080/"
        }
      },
      "execution_count": 22,
      "outputs": [
        {
          "output_type": "stream",
          "name": "stdout",
          "text": [
            "[tensor([[10,  0,  0,  ..., 20, 20, 20],\n",
            "        [10, 19, 14,  ..., 20, 20, 20],\n",
            "        [10,  7, 15,  ..., 20, 20, 20],\n",
            "        ...,\n",
            "        [10,  0, 13,  ..., 20, 20, 20],\n",
            "        [10, 14,  7,  ..., 20, 20, 20],\n",
            "        [10, 15,  5,  ..., 20, 20, 20]]), tensor([[0, 0, 1, 0, 0],\n",
            "        [0, 0, 1, 0, 0],\n",
            "        [0, 1, 0, 0, 0],\n",
            "        [0, 0, 0, 1, 0],\n",
            "        [0, 1, 0, 0, 0],\n",
            "        [0, 0, 0, 0, 1],\n",
            "        [0, 0, 1, 0, 0],\n",
            "        [0, 1, 0, 0, 0],\n",
            "        [0, 0, 0, 0, 0],\n",
            "        [0, 0, 0, 0, 0]])]\n"
          ]
        }
      ]
    },
    {
      "cell_type": "code",
      "source": [
        "len_list = []\n",
        "for s in dl:\n",
        "    len_list.append(len(s))\n",
        "sns.histplot(len_list)\n",
        "\n",
        "p = 0\n",
        "n = 0\n",
        "for labels in ll:\n",
        "    found_pos = False\n",
        "    for l in labels:\n",
        "        if l:\n",
        "            p += 1\n",
        "            found_pos = True\n",
        "            break\n",
        "    if not found_pos:\n",
        "        n+=1\n",
        "print(f'{p = }\\n{n = }')"
      ],
      "metadata": {
        "id": "JrwN-K7Syzod",
        "outputId": "74cd13c4-5d28-4558-968f-188a8d47ceb7",
        "colab": {
          "base_uri": "https://localhost:8080/",
          "height": 465
        }
      },
      "execution_count": 18,
      "outputs": [
        {
          "output_type": "stream",
          "name": "stdout",
          "text": [
            "p = 1454\n",
            "n = 533\n"
          ]
        },
        {
          "output_type": "display_data",
          "data": {
            "text/plain": [
              "<Figure size 640x480 with 1 Axes>"
            ],
            "image/png": "[encoded data removed]"
          },
          "metadata": {}
        }
      ]
    },
    {
      "cell_type": "markdown",
      "source": [
        "# Train model multiple labels"
      ],
      "metadata": {
        "id": "bcZoEI7-xuop"
      }
    },
    {
      "cell_type": "code",
      "source": [
        "model = MultiClassifierCNN1D(num_classes=5, context_size=num_steps, conv_channels=256, use_bias=True)\n",
        "model.apply(init_weights)\n",
        "loss_fn = nn.BCEWithLogitsLoss(pos_weight=pos_weights)\n",
        "optimizer = torch.optim.SGD(model.parameters(), lr=0.005, momentum=0.9)\n",
        "model"
      ],
      "metadata": {
        "id": "towK5DH_147q",
        "outputId": "c67cb366-f595-4c29-e2dc-dabdedb4be57",
        "colab": {
          "base_uri": "https://localhost:8080/"
        }
      },
      "execution_count": 30,
      "outputs": [
        {
          "output_type": "execute_result",
          "data": {
            "text/plain": [
              "MultiClassifierCNN1D(\n",
              "  (embedding): Embedding(21, 21)\n",
              "  (conv1): Sequential(\n",
              "    (0): Conv1d(21, 256, kernel_size=(3,), stride=(1,), padding=same)\n",
              "    (1): BatchNorm1d(256, eps=1e-05, momentum=0.1, affine=True, track_running_stats=True)\n",
              "    (2): ReLU()\n",
              "    (3): MaxPool1d(kernel_size=2, stride=2, padding=0, dilation=1, ceil_mode=False)\n",
              "    (4): Dropout(p=0.1, inplace=False)\n",
              "  )\n",
              "  (conv2): Sequential(\n",
              "    (0): Conv1d(256, 256, kernel_size=(3,), stride=(1,), padding=same)\n",
              "    (1): BatchNorm1d(256, eps=1e-05, momentum=0.1, affine=True, track_running_stats=True)\n",
              "    (2): ReLU()\n",
              "    (3): MaxPool1d(kernel_size=1, stride=1, padding=0, dilation=1, ceil_mode=False)\n",
              "    (4): Dropout(p=0.1, inplace=False)\n",
              "  )\n",
              "  (conv3): Sequential(\n",
              "    (0): Conv1d(256, 256, kernel_size=(3,), stride=(1,), padding=same)\n",
              "    (1): BatchNorm1d(256, eps=1e-05, momentum=0.1, affine=True, track_running_stats=True)\n",
              "    (2): ReLU()\n",
              "    (3): AdaptiveMaxPool1d(output_size=1)\n",
              "  )\n",
              "  (fc1): Sequential(\n",
              "    (0): Flatten(start_dim=1, end_dim=-1)\n",
              "    (1): LazyLinear(in_features=0, out_features=64, bias=True)\n",
              "    (2): ReLU()\n",
              "    (3): Dropout(p=0.1, inplace=False)\n",
              "  )\n",
              "  (fc2): Sequential(\n",
              "    (0): LazyLinear(in_features=0, out_features=5, bias=True)\n",
              "  )\n",
              ")"
            ]
          },
          "metadata": {},
          "execution_count": 30
        }
      ]
    },
    {
      "cell_type": "code",
      "source": [
        "trainer = TrainerMultipleClasses(model, loss_fn, optimizer, device)\n",
        "trainer.train(epochs=50, train_iter=traindataloader, test_iter=testdataloader)"
      ],
      "metadata": {
        "id": "xv-k3v3e2Afo",
        "outputId": "bf245e32-45c2-4cf8-b91b-4cda5b446451",
        "colab": {
          "base_uri": "https://localhost:8080/"
        }
      },
      "execution_count": 31,
      "outputs": [
        {
          "output_type": "stream",
          "name": "stdout",
          "text": [
            "epoch = 0\ttrain_loss=1.18734\ttest_loss=1.18547\ttrain_acc=0.57081\ttest_acc=0.55270\ttest_prec=0.14859\ttest_rec=0.36073\ttest_f=0.21048\n",
            "epoch = 1\ttrain_loss=1.16334\ttest_loss=1.18451\ttrain_acc=0.47315\ttest_acc=0.45509\ttest_prec=0.18365\ttest_rec=0.66667\ttest_f=0.28797\n",
            "epoch = 2\ttrain_loss=1.16443\ttest_loss=1.18143\ttrain_acc=0.50872\ttest_acc=0.45509\ttest_prec=0.18365\ttest_rec=0.66667\ttest_f=0.28797\n",
            "epoch = 3\ttrain_loss=1.16709\ttest_loss=1.18601\ttrain_acc=0.50268\ttest_acc=0.45509\ttest_prec=0.18365\ttest_rec=0.66667\ttest_f=0.28797\n",
            "epoch = 4\ttrain_loss=1.16091\ttest_loss=1.18219\ttrain_acc=0.58926\ttest_acc=0.71522\ttest_prec=0.20201\ttest_rec=0.24505\ttest_f=0.22146\n",
            "epoch = 5\ttrain_loss=1.16220\ttest_loss=1.18381\ttrain_acc=0.54362\ttest_acc=0.67220\ttest_prec=0.09524\ttest_rec=0.11568\ttest_f=0.10447\n",
            "epoch = 6\ttrain_loss=1.16423\ttest_loss=1.18129\ttrain_acc=0.42248\ttest_acc=0.67220\ttest_prec=0.09524\ttest_rec=0.11568\ttest_f=0.10447\n",
            "epoch = 7\ttrain_loss=1.16215\ttest_loss=1.18300\ttrain_acc=0.57483\ttest_acc=0.56553\ttest_prec=0.16394\ttest_rec=0.39726\ttest_f=0.23210\n",
            "epoch = 8\ttrain_loss=1.16235\ttest_loss=1.18137\ttrain_acc=0.43456\ttest_acc=0.40428\ttest_prec=0.14130\ttest_rec=0.51294\ttest_f=0.22156\n",
            "epoch = 9\ttrain_loss=1.16468\ttest_loss=1.18164\ttrain_acc=0.57299\ttest_acc=0.47673\ttest_prec=0.20168\ttest_rec=0.73212\ttest_f=0.31624\n",
            "epoch = 10\ttrain_loss=1.16411\ttest_loss=1.18329\ttrain_acc=0.61527\ttest_acc=0.58591\ttest_prec=0.18919\ttest_rec=0.45814\ttest_f=0.26779\n",
            "epoch = 11\ttrain_loss=1.16407\ttest_loss=1.18298\ttrain_acc=0.49295\ttest_acc=0.47673\ttest_prec=0.20168\ttest_rec=0.73212\ttest_f=0.31624\n",
            "epoch = 12\ttrain_loss=1.16201\ttest_loss=1.18239\ttrain_acc=0.39899\ttest_acc=0.58616\ttest_prec=0.18931\ttest_rec=0.45814\ttest_f=0.26791\n",
            "epoch = 13\ttrain_loss=1.16673\ttest_loss=1.18488\ttrain_acc=0.56460\ttest_acc=0.44604\ttest_prec=0.17610\ttest_rec=0.63927\ttest_f=0.27613\n",
            "epoch = 14\ttrain_loss=1.16097\ttest_loss=1.18207\ttrain_acc=0.54765\ttest_acc=0.32704\ttest_prec=0.18270\ttest_rec=0.88432\ttest_f=0.30284\n",
            "epoch = 15\ttrain_loss=1.16193\ttest_loss=1.18348\ttrain_acc=0.39060\ttest_acc=0.56604\ttest_prec=0.16415\ttest_rec=0.39726\ttest_f=0.23231\n",
            "epoch = 16\ttrain_loss=1.16552\ttest_loss=1.18182\ttrain_acc=0.56812\ttest_acc=0.58616\ttest_prec=0.18931\ttest_rec=0.45814\ttest_f=0.26791\n",
            "epoch = 17\ttrain_loss=1.16332\ttest_loss=1.18060\ttrain_acc=0.51980\ttest_acc=0.58616\ttest_prec=0.18931\ttest_rec=0.45814\ttest_f=0.26791\n",
            "epoch = 18\ttrain_loss=1.16306\ttest_loss=1.18468\ttrain_acc=0.46409\ttest_acc=0.56604\ttest_prec=0.16415\ttest_rec=0.39726\ttest_f=0.23231\n",
            "epoch = 19\ttrain_loss=1.16337\ttest_loss=1.18132\ttrain_acc=0.51309\ttest_acc=0.56604\ttest_prec=0.16415\ttest_rec=0.39726\ttest_f=0.23231\n",
            "epoch = 20\ttrain_loss=1.16700\ttest_loss=1.18185\ttrain_acc=0.41812\ttest_acc=0.58616\ttest_prec=0.18931\ttest_rec=0.45814\ttest_f=0.26791\n",
            "epoch = 21\ttrain_loss=1.16319\ttest_loss=1.18534\ttrain_acc=0.49430\ttest_acc=0.61686\ttest_prec=0.22767\ttest_rec=0.55099\ttest_f=0.32221\n",
            "epoch = 22\ttrain_loss=1.16111\ttest_loss=1.18389\ttrain_acc=0.48389\ttest_acc=0.31497\ttest_prec=0.17516\ttest_rec=0.84779\ttest_f=0.29033\n",
            "epoch = 23\ttrain_loss=1.16785\ttest_loss=1.18269\ttrain_acc=0.50369\ttest_acc=0.46717\ttest_prec=0.19371\ttest_rec=0.70320\ttest_f=0.30375\n",
            "epoch = 24\ttrain_loss=1.16095\ttest_loss=1.18222\ttrain_acc=0.36812\ttest_acc=0.43396\ttest_prec=0.16604\ttest_rec=0.60274\ttest_f=0.26036\n",
            "epoch = 25\ttrain_loss=1.16437\ttest_loss=1.18270\ttrain_acc=0.51510\ttest_acc=0.41384\ttest_prec=0.14927\ttest_rec=0.54186\ttest_f=0.23406\n",
            "epoch = 26\ttrain_loss=1.16557\ttest_loss=1.18083\ttrain_acc=0.46074\ttest_acc=0.58616\ttest_prec=0.18931\ttest_rec=0.45814\ttest_f=0.26791\n",
            "epoch = 27\ttrain_loss=1.16082\ttest_loss=1.18346\ttrain_acc=0.47852\ttest_acc=0.58616\ttest_prec=0.18931\ttest_rec=0.45814\ttest_f=0.26791\n",
            "epoch = 28\ttrain_loss=1.16320\ttest_loss=1.18119\ttrain_acc=0.50436\ttest_acc=0.56604\ttest_prec=0.16415\ttest_rec=0.39726\ttest_f=0.23231\n",
            "epoch = 29\ttrain_loss=1.16313\ttest_loss=1.18141\ttrain_acc=0.51913\ttest_acc=0.46717\ttest_prec=0.19371\ttest_rec=0.70320\ttest_f=0.30375\n",
            "epoch = 30\ttrain_loss=1.16563\ttest_loss=1.18116\ttrain_acc=0.50906\ttest_acc=0.45509\ttest_prec=0.18365\ttest_rec=0.66667\ttest_f=0.28797\n",
            "epoch = 31\ttrain_loss=1.16475\ttest_loss=1.18303\ttrain_acc=0.49128\ttest_acc=0.58616\ttest_prec=0.18931\ttest_rec=0.45814\ttest_f=0.26791\n",
            "epoch = 32\ttrain_loss=1.16613\ttest_loss=1.18568\ttrain_acc=0.47987\ttest_acc=0.53283\ttest_prec=0.12264\ttest_rec=0.29680\ttest_f=0.17356\n",
            "epoch = 33\ttrain_loss=1.16586\ttest_loss=1.18302\ttrain_acc=0.33322\ttest_acc=0.38314\ttest_prec=0.12369\ttest_rec=0.44901\ttest_f=0.19395\n",
            "epoch = 34\ttrain_loss=1.16307\ttest_loss=1.18536\ttrain_acc=0.50503\ttest_acc=0.43396\ttest_prec=0.16604\ttest_rec=0.60274\ttest_f=0.26036\n",
            "epoch = 35\ttrain_loss=1.16326\ttest_loss=1.18250\ttrain_acc=0.44497\ttest_acc=0.41384\ttest_prec=0.14927\ttest_rec=0.54186\ttest_f=0.23406\n",
            "epoch = 36\ttrain_loss=1.16566\ttest_loss=1.18441\ttrain_acc=0.40940\ttest_acc=0.44604\ttest_prec=0.17610\ttest_rec=0.63927\ttest_f=0.27613\n",
            "epoch = 37\ttrain_loss=1.16629\ttest_loss=1.18241\ttrain_acc=0.44564\ttest_acc=0.44604\ttest_prec=0.17610\ttest_rec=0.63927\ttest_f=0.27613\n",
            "epoch = 38\ttrain_loss=1.16413\ttest_loss=1.18139\ttrain_acc=0.46913\ttest_acc=0.40428\ttest_prec=0.14130\ttest_rec=0.51294\ttest_f=0.22156\n",
            "epoch = 39\ttrain_loss=1.16604\ttest_loss=1.18269\ttrain_acc=0.38020\ttest_acc=0.42591\ttest_prec=0.15933\ttest_rec=0.57839\ttest_f=0.24984\n",
            "epoch = 40\ttrain_loss=1.16222\ttest_loss=1.18431\ttrain_acc=0.38691\ttest_acc=0.42440\ttest_prec=0.15807\ttest_rec=0.57382\ttest_f=0.24786\n",
            "epoch = 41\ttrain_loss=1.16424\ttest_loss=1.18155\ttrain_acc=0.60856\ttest_acc=0.58616\ttest_prec=0.18931\ttest_rec=0.45814\ttest_f=0.26791\n",
            "epoch = 42\ttrain_loss=1.16555\ttest_loss=1.18278\ttrain_acc=0.50906\ttest_acc=0.57560\ttest_prec=0.17610\ttest_rec=0.42618\ttest_f=0.24922\n",
            "epoch = 43\ttrain_loss=1.16209\ttest_loss=1.18166\ttrain_acc=0.40570\ttest_acc=0.42440\ttest_prec=0.15807\ttest_rec=0.57382\ttest_f=0.24786\n",
            "epoch = 44\ttrain_loss=1.16227\ttest_loss=1.18278\ttrain_acc=0.47047\ttest_acc=0.58616\ttest_prec=0.18931\ttest_rec=0.45814\ttest_f=0.26791\n",
            "epoch = 45\ttrain_loss=1.16100\ttest_loss=1.18285\ttrain_acc=0.54765\ttest_acc=0.58616\ttest_prec=0.18931\ttest_rec=0.45814\ttest_f=0.26791\n",
            "epoch = 46\ttrain_loss=1.16212\ttest_loss=1.18254\ttrain_acc=0.44329\ttest_acc=0.58616\ttest_prec=0.18931\ttest_rec=0.45814\ttest_f=0.26791\n",
            "epoch = 47\ttrain_loss=1.16214\ttest_loss=1.18372\ttrain_acc=0.56812\ttest_acc=0.58616\ttest_prec=0.18931\ttest_rec=0.45814\ttest_f=0.26791\n",
            "epoch = 48\ttrain_loss=1.16706\ttest_loss=1.18570\ttrain_acc=0.43054\ttest_acc=0.73509\ttest_prec=0.25250\ttest_rec=0.30746\ttest_f=0.27728\n",
            "epoch = 49\ttrain_loss=1.16379\ttest_loss=1.18265\ttrain_acc=0.61913\ttest_acc=0.57409\ttest_prec=0.17421\ttest_rec=0.42161\ttest_f=0.24655\n"
          ]
        }
      ]
    }
  ]
}