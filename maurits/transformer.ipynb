{
 "cells": [
  {
   "cell_type": "code",
   "execution_count": 1,
   "id": "6d420c40",
   "metadata": {},
   "outputs": [
    {
     "name": "stdout",
     "output_type": "stream",
     "text": [
      "Cloning into 'grs34806-deep-learning-project-data'...\n",
      "remote: Enumerating objects: 21, done.\u001b[K\n",
      "remote: Total 21 (delta 0), reused 0 (delta 0), pack-reused 21 (from 1)\u001b[K\n",
      "Receiving objects: 100% (21/21), 8.74 MiB | 13.94 MiB/s, done.\n"
     ]
    }
   ],
   "source": [
    "import os\n",
    "! git clone https://git.wur.nl/bioinformatics/grs34806-deep-learning-project-data.git\n",
    "os.chdir(\"grs34806-deep-learning-project-data\")"
   ]
  }
 ],
 "metadata": {
  "kernelspec": {
   "display_name": "msc_thesis",
   "language": "python",
   "name": "python3"
  },
  "language_info": {
   "codemirror_mode": {
    "name": "ipython",
    "version": 3
   },
   "file_extension": ".py",
   "mimetype": "text/x-python",
   "name": "python",
   "nbconvert_exporter": "python",
   "pygments_lexer": "ipython3",
   "version": "3.10.12"
  }
 },
 "nbformat": 4,
 "nbformat_minor": 5
}
