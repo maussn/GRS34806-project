{
  "nbformat": 4,
  "nbformat_minor": 0,
  "metadata": {
    "colab": {
      "provenance": [],
      "gpuType": "T4"
    },
    "kernelspec": {
      "name": "python3",
      "display_name": "Python 3"
    },
    "language_info": {
      "name": "python"
    },
    "accelerator": "GPU"
  },
  "cells": [
    {
      "cell_type": "markdown",
      "source": [
        "# Bioinformatics project 2025"
      ],
      "metadata": {
        "id": "z3yKszdvgwax"
      }
    },
    {
      "cell_type": "markdown",
      "source": [
        "## Importing libraries"
      ],
      "metadata": {
        "id": "qKMKB6B_Rmvh"
      }
    },
    {
      "cell_type": "code",
      "source": [
        "!pip install -q d2l"
      ],
      "metadata": {
        "colab": {
          "base_uri": "https://localhost:8080/"
        },
        "id": "4q7m7gxJZVjo",
        "outputId": "23446fea-1b4a-42d9-a7eb-d3db161b60b5"
      },
      "execution_count": 35,
      "outputs": [
        {
          "output_type": "stream",
          "name": "stdout",
          "text": [
            "\u001b[2K     \u001b[90m━━━━━━━━━━━━━━━━━━━━━━━━━━━━━━━━━━━━━━━━\u001b[0m \u001b[32m58.9/58.9 kB\u001b[0m \u001b[31m4.3 MB/s\u001b[0m eta \u001b[36m0:00:00\u001b[0m\n",
            "\u001b[2K   \u001b[90m━━━━━━━━━━━━━━━━━━━━━━━━━━━━━━━━━━━━━━━━\u001b[0m \u001b[32m111.7/111.7 kB\u001b[0m \u001b[31m8.6 MB/s\u001b[0m eta \u001b[36m0:00:00\u001b[0m\n",
            "\u001b[2K   \u001b[90m━━━━━━━━━━━━━━━━━━━━━━━━━━━━━━━━━━━━━━━━\u001b[0m \u001b[32m11.6/11.6 MB\u001b[0m \u001b[31m108.7 MB/s\u001b[0m eta \u001b[36m0:00:00\u001b[0m\n",
            "\u001b[2K   \u001b[90m━━━━━━━━━━━━━━━━━━━━━━━━━━━━━━━━━━━━━━━━\u001b[0m \u001b[32m17.1/17.1 MB\u001b[0m \u001b[31m89.9 MB/s\u001b[0m eta \u001b[36m0:00:00\u001b[0m\n",
            "\u001b[2K   \u001b[90m━━━━━━━━━━━━━━━━━━━━━━━━━━━━━━━━━━━━━━━━\u001b[0m \u001b[32m12.2/12.2 MB\u001b[0m \u001b[31m105.5 MB/s\u001b[0m eta \u001b[36m0:00:00\u001b[0m\n",
            "\u001b[2K   \u001b[90m━━━━━━━━━━━━━━━━━━━━━━━━━━━━━━━━━━━━━━━━\u001b[0m \u001b[32m62.6/62.6 kB\u001b[0m \u001b[31m5.1 MB/s\u001b[0m eta \u001b[36m0:00:00\u001b[0m\n",
            "\u001b[2K   \u001b[90m━━━━━━━━━━━━━━━━━━━━━━━━━━━━━━━━━━━━━━━━\u001b[0m \u001b[32m34.1/34.1 MB\u001b[0m \u001b[31m14.7 MB/s\u001b[0m eta \u001b[36m0:00:00\u001b[0m\n",
            "\u001b[2K   \u001b[90m━━━━━━━━━━━━━━━━━━━━━━━━━━━━━━━━━━━━━━━━\u001b[0m \u001b[32m98.3/98.3 kB\u001b[0m \u001b[31m8.5 MB/s\u001b[0m eta \u001b[36m0:00:00\u001b[0m\n",
            "\u001b[2K   \u001b[90m━━━━━━━━━━━━━━━━━━━━━━━━━━━━━━━━━━━━━━━━\u001b[0m \u001b[32m125.0/125.0 kB\u001b[0m \u001b[31m9.8 MB/s\u001b[0m eta \u001b[36m0:00:00\u001b[0m\n",
            "\u001b[2K   \u001b[90m━━━━━━━━━━━━━━━━━━━━━━━━━━━━━━━━━━━━━━━━\u001b[0m \u001b[32m95.0/95.0 kB\u001b[0m \u001b[31m8.0 MB/s\u001b[0m eta \u001b[36m0:00:00\u001b[0m\n",
            "\u001b[2K   \u001b[90m━━━━━━━━━━━━━━━━━━━━━━━━━━━━━━━━━━━━━━━━\u001b[0m \u001b[32m1.6/1.6 MB\u001b[0m \u001b[31m61.3 MB/s\u001b[0m eta \u001b[36m0:00:00\u001b[0m\n",
            "\u001b[?25h\u001b[31mERROR: pip's dependency resolver does not currently take into account all the packages that are installed. This behaviour is the source of the following dependency conflicts.\n",
            "google-colab 1.0.0 requires pandas==2.2.2, but you have pandas 2.0.3 which is incompatible.\n",
            "google-colab 1.0.0 requires requests==2.32.3, but you have requests 2.31.0 which is incompatible.\n",
            "pymc 5.21.2 requires numpy>=1.25.0, but you have numpy 1.23.5 which is incompatible.\n",
            "tensorflow 2.18.0 requires numpy<2.1.0,>=1.26.0, but you have numpy 1.23.5 which is incompatible.\n",
            "blosc2 3.3.0 requires numpy>=1.26, but you have numpy 1.23.5 which is incompatible.\n",
            "jax 0.5.2 requires numpy>=1.25, but you have numpy 1.23.5 which is incompatible.\n",
            "jax 0.5.2 requires scipy>=1.11.1, but you have scipy 1.10.1 which is incompatible.\n",
            "treescope 0.1.9 requires numpy>=1.25.2, but you have numpy 1.23.5 which is incompatible.\n",
            "scikit-image 0.25.2 requires numpy>=1.24, but you have numpy 1.23.5 which is incompatible.\n",
            "scikit-image 0.25.2 requires scipy>=1.11.4, but you have scipy 1.10.1 which is incompatible.\n",
            "albumentations 2.0.5 requires numpy>=1.24.4, but you have numpy 1.23.5 which is incompatible.\n",
            "bigframes 1.42.0 requires numpy>=1.24.0, but you have numpy 1.23.5 which is incompatible.\n",
            "cvxpy 1.6.4 requires scipy>=1.11.0, but you have scipy 1.10.1 which is incompatible.\n",
            "xarray 2025.1.2 requires numpy>=1.24, but you have numpy 1.23.5 which is incompatible.\n",
            "xarray 2025.1.2 requires pandas>=2.1, but you have pandas 2.0.3 which is incompatible.\n",
            "albucore 0.0.23 requires numpy>=1.24.4, but you have numpy 1.23.5 which is incompatible.\n",
            "mizani 0.13.2 requires pandas>=2.2.0, but you have pandas 2.0.3 which is incompatible.\n",
            "imbalanced-learn 0.13.0 requires numpy<3,>=1.24.3, but you have numpy 1.23.5 which is incompatible.\n",
            "jaxlib 0.5.1 requires numpy>=1.25, but you have numpy 1.23.5 which is incompatible.\n",
            "jaxlib 0.5.1 requires scipy>=1.11.1, but you have scipy 1.10.1 which is incompatible.\n",
            "plotnine 0.14.5 requires matplotlib>=3.8.0, but you have matplotlib 3.7.2 which is incompatible.\n",
            "plotnine 0.14.5 requires pandas>=2.2.0, but you have pandas 2.0.3 which is incompatible.\n",
            "chex 0.1.89 requires numpy>=1.24.1, but you have numpy 1.23.5 which is incompatible.\n",
            "thinc 8.3.6 requires numpy<3.0.0,>=2.0.0, but you have numpy 1.23.5 which is incompatible.\u001b[0m\u001b[31m\n",
            "\u001b[0m"
          ]
        }
      ]
    },
    {
      "cell_type": "code",
      "source": [
        "import torch\n",
        "from torch import nn\n",
        "import torch.nn.functional as F\n",
        "from d2l import torch as d2l\n",
        "import pandas as pd\n",
        "import numpy as np\n",
        "from sklearn.model_selection import train_test_split\n",
        "from torch.utils.data import DataLoader, TensorDataset\n",
        "import matplotlib.pyplot as plt\n",
        "from torch.utils.data import RandomSampler\n",
        "from tqdm import tqdm"
      ],
      "metadata": {
        "id": "jWaSmhqHp64z"
      },
      "execution_count": 47,
      "outputs": []
    },
    {
      "cell_type": "markdown",
      "source": [
        "## Downloading files"
      ],
      "metadata": {
        "id": "f09a5-2kggiB"
      }
    },
    {
      "cell_type": "code",
      "execution_count": 3,
      "metadata": {
        "colab": {
          "base_uri": "https://localhost:8080/"
        },
        "id": "v3rxqOHid7Ew",
        "outputId": "d702c64d-0b02-4f25-b302-4475688fdbfd"
      },
      "outputs": [
        {
          "output_type": "stream",
          "name": "stdout",
          "text": [
            "Cloning into 'grs34806-deep-learning-project-data'...\n",
            "remote: Enumerating objects: 21, done.\u001b[K\n",
            "remote: Total 21 (delta 0), reused 0 (delta 0), pack-reused 21 (from 1)\u001b[K\n",
            "Receiving objects: 100% (21/21), 8.74 MiB | 23.55 MiB/s, done.\n"
          ]
        }
      ],
      "source": [
        "import os\n",
        "! git clone https://git.wur.nl/bioinformatics/grs34806-deep-learning-project-data.git\n",
        "os.chdir(\"grs34806-deep-learning-project-data\")"
      ]
    },
    {
      "cell_type": "markdown",
      "source": [
        "## Data Parsing\n"
      ],
      "metadata": {
        "id": "v22jzl1LhSNm"
      }
    },
    {
      "cell_type": "code",
      "source": [
        "def read(seqfile, posfile):\n",
        "    idlist = []\n",
        "    datalist = []\n",
        "    labellist = []\n",
        "\n",
        "    # Read sequences + IDs (.seq)\n",
        "    with open(seqfile, 'r') as f:\n",
        "        for line in f:\n",
        "            parts = line.strip().split('\\t')\n",
        "            if len(parts) != 2:\n",
        "                continue\n",
        "            idlist.append(parts[0])\n",
        "            datalist.append(parts[1])\n",
        "            labellist.append(0)\n",
        "\n",
        "    # Update labels (.pos)\n",
        "    with open(posfile, 'r') as f:\n",
        "        for line in f:\n",
        "            pos_id = line.strip()\n",
        "            if pos_id in idlist:\n",
        "                idx = idlist.index(pos_id)\n",
        "                labellist[idx] = 1  # mark as positive\n",
        "\n",
        "    return datalist, labellist\n"
      ],
      "metadata": {
        "id": "_p01Mf9whA1-"
      },
      "execution_count": 37,
      "outputs": []
    },
    {
      "cell_type": "markdown",
      "source": [
        "## Split Datset into Train and Test Sets"
      ],
      "metadata": {
        "id": "zpbqv44UWZDI"
      }
    },
    {
      "cell_type": "code",
      "source": [
        "def generate_train_test(datalist, labellist):\n",
        "    # train_test_split()\n",
        "    traindatalist, testdatalist, trainlabellist, testlabellist = train_test_split(\n",
        "        datalist, labellist, test_size=0.2, random_state=42)\n",
        "    return traindatalist, trainlabellist, testdatalist, testlabellist"
      ],
      "metadata": {
        "id": "fTqsjWAmWcMb"
      },
      "execution_count": 38,
      "outputs": []
    },
    {
      "cell_type": "markdown",
      "source": [
        "## Loading Data (Tokenization & Batching)\n"
      ],
      "metadata": {
        "id": "v97CnDfOXv2R"
      }
    },
    {
      "cell_type": "code",
      "source": [
        "def load_data(batch_size, num_steps, dataset):\n",
        "    mapaa2num = {aa: i for (i, aa) in enumerate(list(\"ACDEFGHIKLMNPQRSTVWY\"))}\n",
        "    seq, lab = dataset\n",
        "    seq = tokenize(seq, mapaa2num)\n",
        "    seq_array = build_seq_array(seq, num_steps)\n",
        "    data_arrays = (seq_array, torch.tensor(lab))\n",
        "    data_iter = d2l.load_array(data_arrays, batch_size)\n",
        "    return data_iter\n",
        "\n",
        "def tokenize(dat, map2num, non_aa_num=20):\n",
        "    seq = []\n",
        "    for count, i in enumerate(dat):\n",
        "        seq.append([map2num.get(j, non_aa_num) for j in list(i)])\n",
        "    return seq\n",
        "\n",
        "def build_seq_array(lines, num_steps, non_aa_num=20):\n",
        "    array = torch.tensor([\n",
        "        truncate_pad(l, num_steps, non_aa_num) for l in lines])\n",
        "    return array\n",
        "\n",
        "def truncate_pad(line, num_steps, padding_token):\n",
        "    if len(line) > num_steps:\n",
        "        return line[:num_steps]\n",
        "    return line + [padding_token] * (num_steps - len(line))\n"
      ],
      "metadata": {
        "id": "7LqERb9bX2kM"
      },
      "execution_count": 39,
      "outputs": []
    },
    {
      "cell_type": "markdown",
      "source": [
        "## Test / example"
      ],
      "metadata": {
        "id": "Ay_N0ww7YcSF"
      }
    },
    {
      "cell_type": "code",
      "source": [
        "batch_size = 32\n",
        "num_steps = 200  # Max sequence length\n",
        "\n",
        "datalist, labellist = read('/content/grs34806-deep-learning-project-data/len100_200_n1000.seq', '/content/grs34806-deep-learning-project-data/len100_200_n1000.pos')\n",
        "traindatalist, trainlabellist, testdatalist, testlabellist = generate_train_test(datalist, labellist)\n",
        "traindataset = [traindatalist, trainlabellist]\n",
        "testdataset = [testdatalist, testlabellist]\n",
        "\n",
        "# Set batch_size and num_steps (maximum sequence length)\n",
        "train_iter = load_data(batch_size, num_steps, traindataset)\n",
        "test_iter = load_data(batch_size, num_steps, testdataset)\n",
        "\n",
        "print(next(iter(train_iter)))\n"
      ],
      "metadata": {
        "colab": {
          "base_uri": "https://localhost:8080/"
        },
        "id": "XwP59xWwYgVQ",
        "outputId": "13dd84ae-9a9c-47e3-fd22-ac6fe476c330"
      },
      "execution_count": 44,
      "outputs": [
        {
          "output_type": "stream",
          "name": "stdout",
          "text": [
            "[tensor([[10, 18,  3,  ..., 20, 20, 20],\n",
            "        [10,  0,  4,  ...,  6, 20, 20],\n",
            "        [10, 11, 10,  ..., 20, 20, 20],\n",
            "        ...,\n",
            "        [10, 12, 16,  ..., 20, 20, 20],\n",
            "        [10,  5,  1,  ..., 13, 20, 20],\n",
            "        [10,  5, 15,  ..., 20, 20, 20]]), tensor([1, 0, 1, 0, 0, 1, 1, 0, 1, 0, 1, 1, 0, 1, 0, 0, 0, 1, 1, 1, 0, 1, 1, 1,\n",
            "        0, 0, 0, 1, 1, 1, 1, 1])]\n"
          ]
        }
      ]
    },
    {
      "cell_type": "markdown",
      "source": [
        "## CNN model"
      ],
      "metadata": {
        "id": "mrkgV9yxaTXm"
      }
    },
    {
      "cell_type": "markdown",
      "source": [
        "Not sure about the kernel size and stride, followed our practical in week 4."
      ],
      "metadata": {
        "id": "FOjpxz06chOZ"
      }
    },
    {
      "cell_type": "code",
      "source": [
        "class CNN1D(nn.Module):\n",
        "    \"\"\"1D Convolutional Neural Network for protein function classification\"\"\"\n",
        "    def __init__(self, vocab_size: int, context_size: int, conv_channels: int = 128, use_bias: bool = False):\n",
        "        super().__init__()\n",
        "        assert context_size % 2 == 0, f'Invalid context_size, {context_size} is not an even number'\n",
        "        self.vocab_size = vocab_size\n",
        "        self.context_size = context_size\n",
        "\n",
        "        # CNN model for binary classification\n",
        "        self.cnn = nn.Sequential(\n",
        "            # conv block 1\n",
        "            nn.Conv1d(in_channels=self.vocab_size, out_channels=conv_channels, kernel_size=3, padding='same', bias=use_bias),\n",
        "            nn.ReLU(),\n",
        "            nn.MaxPool1d(kernel_size=2, stride=2),\n",
        "\n",
        "            # conv block 2\n",
        "            nn.Conv1d(in_channels=conv_channels, out_channels=conv_channels, kernel_size=3, padding='same', bias=use_bias),\n",
        "            nn.ReLU(),\n",
        "            nn.MaxPool1d(kernel_size=2, stride=2),\n",
        "\n",
        "            # flatten + classification head\n",
        "            nn.Flatten(1, -1),\n",
        "            nn.Linear(in_features=int(conv_channels * self.context_size / 4), out_features=2, bias=use_bias)  # binary classification\n",
        "        )\n",
        "\n",
        "    def forward(self, X: torch.tensor, targets: torch.tensor = None) -> tuple[torch.tensor, torch.tensor]:\n",
        "        \"\"\"Predict protein function class (0 or 1)\"\"\"\n",
        "        logits = self.cnn(X)\n",
        "        loss = None if targets is None else F.cross_entropy(logits, targets.view(-1))\n",
        "        return logits, loss\n"
      ],
      "metadata": {
        "id": "oX09xHxhaVAU"
      },
      "execution_count": 42,
      "outputs": []
    },
    {
      "cell_type": "code",
      "source": [
        "net = CNN1D(vocab_size=21, context_size=200)"
      ],
      "metadata": {
        "id": "33_H85iOfS5_"
      },
      "execution_count": 54,
      "outputs": []
    },
    {
      "cell_type": "markdown",
      "source": [
        "## Training the model"
      ],
      "metadata": {
        "id": "VrYamixzdotp"
      }
    },
    {
      "cell_type": "code",
      "source": [
        "def trainfunction(model, train_dataloader, validation_dataloader,\n",
        "                  train_steps=2000, batch_size=64, vocab_size=21,\n",
        "                  device='cuda', lr=1e-3, print_every=100):\n",
        "\n",
        "    model.to(device)\n",
        "    optimizer = torch.optim.AdamW(model.parameters(), lr=lr)\n",
        "\n",
        "    train_losses = []\n",
        "    test_losses = []\n",
        "    validation_iter = iter(validation_dataloader)\n",
        "\n",
        "    for step, (x, y) in enumerate(tqdm(train_dataloader, desc=\"Training\"), start=1):\n",
        "        if step > train_steps:\n",
        "            break\n",
        "\n",
        "        # One-hot encode & move to device\n",
        "        x = F.one_hot(x, num_classes=vocab_size).float().permute(0, 2, 1).to(device)\n",
        "        y = y.to(device)\n",
        "\n",
        "        # Forward pass\n",
        "        _, loss = model(x, y)\n",
        "\n",
        "        # Save loss (not sure how big to make my steps)\n",
        "        if step % 1 == 0:\n",
        "            train_losses.append(loss.item())\n",
        "            try:\n",
        "                test_x, test_y = next(validation_iter)\n",
        "            except StopIteration:\n",
        "                validation_iter = iter(validation_dataloader)\n",
        "                test_x, test_y = next(validation_iter)\n",
        "\n",
        "            test_x = F.one_hot(test_x, num_classes=vocab_size).float().permute(0, 2, 1).to(device)\n",
        "            test_y = test_y.to(device)\n",
        "\n",
        "            _, test_loss = model(test_x, test_y)\n",
        "            test_losses.append(test_loss.item())\n",
        "\n",
        "        # Backpropagation\n",
        "        model.zero_grad()\n",
        "        loss.backward()\n",
        "        optimizer.step()\n",
        "\n",
        "        if step % print_every == 0:\n",
        "            print(f\"Step {step}: Train Loss = {loss.item():.4f}\")\n",
        "\n",
        "    # Plot learning curves\n",
        "    plt.plot(train_losses, label='Train Loss')\n",
        "    plt.plot(test_losses, label='Test Loss')\n",
        "    plt.xlabel('Every 20 Steps')\n",
        "    plt.ylabel('Loss')\n",
        "    plt.legend()\n",
        "    plt.title('Training vs Test Loss')\n",
        "    plt.grid(True)\n",
        "    plt.show()\n"
      ],
      "metadata": {
        "id": "8IFScqjbf40-"
      },
      "execution_count": 87,
      "outputs": []
    },
    {
      "cell_type": "code",
      "source": [
        "trainfunction(net, train_iter, test_iter, vocab_size=21)"
      ],
      "metadata": {
        "colab": {
          "base_uri": "https://localhost:8080/",
          "height": 489
        },
        "id": "cpBfJFZ6hXKh",
        "outputId": "a7d0426b-8101-4826-c9b2-a6947b68c928"
      },
      "execution_count": 88,
      "outputs": [
        {
          "output_type": "stream",
          "name": "stderr",
          "text": [
            "Training: 100%|██████████| 25/25 [00:00<00:00, 224.98it/s]\n"
          ]
        },
        {
          "output_type": "display_data",
          "data": {
            "text/plain": [
              "<Figure size 640x480 with 1 Axes>"
            ],
            "image/png": "[encoded data removed]"
          },
          "metadata": {}
        }
      ]
    },
    {
      "cell_type": "markdown",
      "source": [
        "We need to change dropout and change motif length etc... still\n"
      ],
      "metadata": {
        "id": "1w4Lhzo6dlel"
      }
    },
    {
      "cell_type": "markdown",
      "source": [
        "Also a function for evaluation"
      ],
      "metadata": {
        "id": "VWi6MM8Zhj3p"
      }
    },
    {
      "cell_type": "code",
      "source": [
        "import matplotlib.pyplot as plt\n",
        "from tqdm import tqdm\n",
        "import torch.nn.functional as F\n",
        "\n",
        "def trainfunction(model, train_dataloader, validation_dataloader,\n",
        "                  train_steps=2000, batch_size=64, vocab_size=21,\n",
        "                  device='cuda', lr=1e-3, print_every=10, record_every=1):\n",
        "    \"\"\"\n",
        "    Trains a CNN model and plots training vs test loss.\n",
        "\n",
        "    Parameters:\n",
        "    - model: the CNN1D model\n",
        "    - train_dataloader: DataLoader for training\n",
        "    - validation_dataloader: DataLoader for validation\n",
        "    - train_steps: max number of batches to train\n",
        "    - batch_size: batch size (used for sampler)\n",
        "    - vocab_size: one-hot depth (usually 21 for amino acids + unknown)\n",
        "    - device: 'cuda' or 'cpu'\n",
        "    - lr: learning rate\n",
        "    - print_every: how often to print train loss\n",
        "    - record_every: how often to record and plot loss\n",
        "    \"\"\"\n",
        "\n",
        "    model.to(device)\n",
        "    optimizer = torch.optim.AdamW(model.parameters(), lr=lr)\n",
        "\n",
        "    train_losses = []\n",
        "    test_losses = []\n",
        "    x_axis_steps = []\n",
        "    validation_iter = iter(validation_dataloader)\n",
        "\n",
        "    for step, (x, y) in enumerate(tqdm(train_dataloader, desc=\"Training\"), start=1):\n",
        "        if step > train_steps:\n",
        "            break\n",
        "\n",
        "        # One-hot encode input and move to device\n",
        "        x = F.one_hot(x, num_classes=vocab_size).float().permute(0, 2, 1).to(device)\n",
        "        y = y.to(device)\n",
        "\n",
        "        # Forward pass\n",
        "        _, loss = model(x, y)\n",
        "\n",
        "        # Backpropagation\n",
        "        model.zero_grad()\n",
        "        loss.backward()\n",
        "        optimizer.step()\n",
        "\n",
        "        # Record train/test loss at interval\n",
        "        if step % record_every == 0:\n",
        "            train_losses.append(loss.item())\n",
        "            x_axis_steps.append(step)\n",
        "\n",
        "            try:\n",
        "                test_x, test_y = next(validation_iter)\n",
        "            except StopIteration:\n",
        "                validation_iter = iter(validation_dataloader)\n",
        "                test_x, test_y = next(validation_iter)\n",
        "\n",
        "            test_x = F.one_hot(test_x, num_classes=vocab_size).float().permute(0, 2, 1).to(device)\n",
        "            test_y = test_y.to(device)\n",
        "            _, test_loss = model(test_x, test_y)\n",
        "            test_losses.append(test_loss.item())\n",
        "\n",
        "        # Optional live print\n",
        "        if step % print_every == 0:\n",
        "            print(f\"Step {step:4d}: Train Loss = {loss.item():.4f}\")\n",
        "\n",
        "    # Plot learning curves\n",
        "    plt.plot(x_axis_steps, train_losses, label='Train Loss', linewidth=2)\n",
        "    plt.plot(x_axis_steps, test_losses, label='Test Loss', linewidth=2)\n",
        "    plt.xlabel('Training Step')\n",
        "    plt.ylabel('Loss')\n",
        "    plt.title('Training vs Test Loss')\n",
        "    plt.legend()\n",
        "    plt.grid(True)\n",
        "    plt.tight_layout()\n",
        "    plt.show()\n",
        "\n"
      ],
      "metadata": {
        "id": "0eOBO9E-hl1D"
      },
      "execution_count": 84,
      "outputs": []
    },
    {
      "cell_type": "code",
      "source": [
        "trainfunction(net, train_iter, test_iter, vocab_size=21)"
      ],
      "metadata": {
        "colab": {
          "base_uri": "https://localhost:8080/",
          "height": 539
        },
        "id": "3IIktMBVkPmJ",
        "outputId": "96dd966c-c024-4bbb-a224-a0d30b3aa28b"
      },
      "execution_count": 83,
      "outputs": [
        {
          "output_type": "stream",
          "name": "stderr",
          "text": [
            "Training: 100%|██████████| 25/25 [00:00<00:00, 205.66it/s]\n"
          ]
        },
        {
          "output_type": "stream",
          "name": "stdout",
          "text": [
            "Step   10: Train Loss = 0.0000\n",
            "Step   20: Train Loss = 0.0000\n"
          ]
        },
        {
          "output_type": "display_data",
          "data": {
            "text/plain": [
              "<Figure size 640x480 with 1 Axes>"
            ],
            "image/png": "[encoded data removed]"
          },
          "metadata": {}
        }
      ]
    }
  ]
}